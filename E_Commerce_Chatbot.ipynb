{
  "cells": [
    {
      "cell_type": "markdown",
      "source": [
        "# E-Commerce Chatbot:"
      ],
      "metadata": {
        "id": "wuQGcCaYYGDW"
      }
    },
    {
      "cell_type": "markdown",
      "source": [
        "# import data form drive:"
      ],
      "metadata": {
        "id": "nNSJ7vAyJrY9"
      }
    },
    {
      "cell_type": "code",
      "source": [
        "from google.colab import drive\n",
        "drive.mount('/content/drive')"
      ],
      "metadata": {
        "colab": {
          "base_uri": "https://localhost:8080/"
        },
        "id": "p3q9cN_zJu4k",
        "outputId": "6d4b9415-d872-4124-9d49-b6ab86af74a2"
      },
      "execution_count": null,
      "outputs": [
        {
          "output_type": "stream",
          "name": "stdout",
          "text": [
            "Drive already mounted at /content/drive; to attempt to forcibly remount, call drive.mount(\"/content/drive\", force_remount=True).\n"
          ]
        }
      ]
    },
    {
      "cell_type": "markdown",
      "metadata": {
        "id": "BfG5mRj8pnCz"
      },
      "source": [
        "## Import and Load data file"
      ]
    },
    {
      "cell_type": "code",
      "execution_count": null,
      "metadata": {
        "id": "gWYZwvOapnC3"
      },
      "outputs": [],
      "source": [
        "import nltk\n",
        "from nltk.stem import WordNetLemmatizer\n",
        "lemmatizer = WordNetLemmatizer()\n",
        "import json\n",
        "import pickle\n",
        "\n",
        "import numpy as np\n",
        "from keras.models import Sequential\n",
        "from keras.layers import Dense, Activation, Dropout\n",
        "from keras.optimizers import SGD\n",
        "import random\n",
        "\n",
        "words=[]\n",
        "classes = []\n",
        "documents = []\n",
        "ignore_words = ['?', '!']\n",
        "data_file = open('/content/drive/MyDrive/intents.json').read()\n",
        "intents = json.loads(data_file)"
      ]
    },
    {
      "cell_type": "markdown",
      "metadata": {
        "id": "SC18bodVpnC4"
      },
      "source": [
        "## Pre-process data"
      ]
    },
    {
      "cell_type": "markdown",
      "metadata": {
        "id": "olp52qVmpnC5"
      },
      "source": [
        "Here we iterate through the patterns and tokenize the sentence using nltk.word_tokenize() function and append each word in the words list. We also create a list of classes for our tags."
      ]
    },
    {
      "cell_type": "code",
      "execution_count": null,
      "metadata": {
        "colab": {
          "base_uri": "https://localhost:8080/"
        },
        "id": "5ZSTEkjSpnC5",
        "outputId": "d7f3759d-162f-43e5-9890-175661b296e6"
      },
      "outputs": [
        {
          "output_type": "stream",
          "name": "stderr",
          "text": [
            "[nltk_data] Downloading package punkt to /root/nltk_data...\n",
            "[nltk_data]   Package punkt is already up-to-date!\n"
          ]
        }
      ],
      "source": [
        "nltk.download('punkt')\n",
        "for intent in intents['intents']:\n",
        "    for pattern in intent['patterns']:\n",
        "\n",
        "        #tokenize each word\n",
        "        w = nltk.word_tokenize(pattern)\n",
        "        words.extend(w)\n",
        "        #add documents in the corpus\n",
        "        documents.append((w, intent['tag']))\n",
        "\n",
        "        # add to our classes list\n",
        "        if intent['tag'] not in classes:\n",
        "            classes.append(intent['tag'])"
      ]
    },
    {
      "cell_type": "markdown",
      "metadata": {
        "id": "G9puieOzpnC6"
      },
      "source": [
        "lemmatize each word and remove duplicate words from the list"
      ]
    },
    {
      "cell_type": "code",
      "execution_count": null,
      "metadata": {
        "colab": {
          "base_uri": "https://localhost:8080/"
        },
        "id": "JhE5mIVepnC6",
        "outputId": "2e8c7841-49af-447c-db96-606c9b6f39b8"
      },
      "outputs": [
        {
          "output_type": "stream",
          "name": "stdout",
          "text": [
            "265 documents\n",
            "65 classes ['account_creation', 'account_security', 'bulk_order', 'business_partnership', 'cancel', 'cancel_order', 'chat_support', 'community_feedback', 'company_information', 'confirm', 'delay', 'delivery', 'gift_cards', 'goodbye', 'greeting', 'international_shipping', 'items', 'lost_package', 'loyalty_program', 'loyalty_rewards', 'membership_program', 'mobile app', 'mobile_notifications', 'more', 'multiple_shipments', 'order status', 'order_modification', 'order_tracking', 'payments', 'personal', 'price_match', 'privacy_policy', 'product_availability', 'product_care', 'product_comparisons', 'product_customization', 'product_disposal', 'product_exchanges', 'product_recommendations', 'product_returns', 'product_reviews', 'product_sizes_availability', 'product_usage_tips', 'product_warranty', 'profile info', 'promotions', 'promotions_discounts', 'purchase_assistance', 'reasons', 'refund', 'refund status', 'return', 'shipping_information', 'size_and_fit', 'size_guide', 'social_media', 'specific_product', 'specific_returns', 'technical_support', 'thanks', 'track', 'use voucher', 'user response', 'warranties_policies', 'withdraw refunds']\n",
            "348 unique lemmatized words [\"'m\", \"'s\", ',', '.', '[', ']', 'a', 'about', 'accept', 'access', 'account', 'add', 'address', 'affiliate', 'after', 'agent', 'am', 'an', 'and', 'any', 'anyone', 'app', 'apply', 'are', 'arrived', 'assist', 'at', 'authentication', 'availability', 'available', 'back', 'backorder', 'based', 'be', 'become', 'becoming', 'benefit', 'better', 'budget', 'bulk', 'business', 'but', 'buy', 'bye', 'call', 'can', 'cancel', 'canceling', 'cancellation', 'cancelled', 'card', 'care', 'cash', 'category', 'change', 'channel', 'chart', 'chat', 'check', 'choose', 'claim', 'clean', 'code', 'color', 'combine', 'come', 'common', 'community', 'company', 'compare', 'completed', 'confirmation', 'confirmed', 'connect', 'contact', 'cost', 'cover', 'create', 'credit', 'credited', 'customer', 'customization', 'customize', 'customized', 'damaged', 'data', 'date', 'day', 'dedicated', 'deducted', 'delay', 'delayed', 'delete', 'delivered', 'delivery', 'did', 'different', 'disable', 'discount', 'disposal', 'dispose', 'do', 'doe', 'doing', 'download', 'during', 'earning', 'edit', 'enable', 'even', 'exchange', 'exclusive', 'existing', 'experience', 'expiration', 'extra', 'facing', 'fee', 'feedback', 'find', 'fit', 'for', 'forget', 'forum', 'founded', 'from', 'fund', 'get', 'gift', 'good', 'goodbye', 'guest', 'guide', 'guideline', 'ha', 'have', 'hello', 'help', 'helpful', 'helpline', 'hey', 'hi', 'home', 'hour', 'how', 'i', 'idea', 'if', 'im', 'in', 'incentive', 'information', 'initiate', 'instruction', 'international', 'internationally', 'into', 'is', 'issue', 'it', 'item', 'join', 'kind', 'know', 'large', 'later', 'launch', 'limit', 'live', 'located', 'long', 'lost', 'lot', 'loyalty', 'make', 'mastercard', 'match', 'matching', 'me', 'medium', 'member', 'membership', 'method', 'missing', 'mobile', 'modify', 'money', 'more', 'much', 'multiple', 'my', \"n't\", 'need', 'new', 'no', 'not', 'notification', 'now', 'number', 'of', 'offer', 'okay', 'old', 'on', 'once', 'ongoing', 'only', 'option', 'or', 'order', 'ordering', 'original', 'out-of-stock', 'package', 'packaging', 'part', 'partner', 'password', 'pay', 'payment', 'period', 'personal', 'personalized', 'phone', 'place', 'placing', 'please', 'point', 'policy', 'possible', 'practice', 'pre-order', 'preference', 'price', 'pricing', 'privacy', 'problem', 'procedure', 'proceed', 'process', 'processed', 'product', 'product1', 'product2', 'profile', 'program', 'promotion', 'protection', 'provide', 'purchase', 'quantity', 'rate', 'real-time', 'reason', 'receipt', 'receive', 'received', 'recommend', 'recommendation', 'recycle', 'redeem', 'refund', 'refunded', 'request', 'required', 'reseller', 'reset', 'return', 'returned', 'review', 'reward', 'right', 'sale', 'say', 'secure', 'see', 'sell', 'seller', 'service', 'share', 'shipment', 'shipped', 'shipping', 'shop', 'shopping', 'should', 'single', 'size', 'social', 'split', 'status', 'stock', 'successfully', 'suggest', 'suggestion', 'support', 'system', 'take', 'take-back', 'talk', 'team', 'technical', 'tell', 'thank', 'thanks', 'that', 'the', 'there', 'this', 'thnks', 'though', 'thx', 'time', 'tip', 'to', 'track', 'tracking', 'two-factor', 'upcoming', 'update', 'use', 'used', 'using', 'voucher', 'wa', 'wallet', 'want', 'warranty', 'wash', 'website/app', 'what', 'when', 'where', 'which', 'who', 'wholesale', 'why', 'will', 'with', 'withdraw', 'within', 'without', 'work', 'write', 'writing', 'yet', 'you', 'your']\n"
          ]
        },
        {
          "output_type": "stream",
          "name": "stderr",
          "text": [
            "[nltk_data] Downloading package wordnet to /root/nltk_data...\n",
            "[nltk_data]   Package wordnet is already up-to-date!\n"
          ]
        }
      ],
      "source": [
        "# lemmatize, lower each word and remove duplicates\n",
        "nltk.download('wordnet')\n",
        "words = [lemmatizer.lemmatize(w.lower()) for w in words if w not in ignore_words]\n",
        "words = sorted(list(set(words)))\n",
        "# sort classes\n",
        "classes = sorted(list(set(classes)))\n",
        "# documents = combination between patterns and intents\n",
        "print (len(documents), \"documents\")\n",
        "# classes = intents\n",
        "print (len(classes), \"classes\", classes)\n",
        "# words = all words, vocabulary\n",
        "print (len(words), \"unique lemmatized words\", words)\n",
        "\n",
        "pickle.dump(words,open('/content/drive/MyDrive/words.pkl','wb'))\n",
        "pickle.dump(classes,open('/content/drive/MyDrive/classes.pkl','wb'))"
      ]
    },
    {
      "cell_type": "markdown",
      "metadata": {
        "id": "__FABVZhpnC8"
      },
      "source": [
        "## Create training and testing data"
      ]
    },
    {
      "cell_type": "code",
      "execution_count": null,
      "metadata": {
        "colab": {
          "base_uri": "https://localhost:8080/"
        },
        "id": "7IwPHLz2pnC8",
        "outputId": "70056bd3-f425-42c6-a230-fe39f8f57e33"
      },
      "outputs": [
        {
          "output_type": "stream",
          "name": "stdout",
          "text": [
            "Training and validation data created\n"
          ]
        },
        {
          "output_type": "stream",
          "name": "stderr",
          "text": [
            "<ipython-input-21-0069fba0a592>:24: VisibleDeprecationWarning: Creating an ndarray from ragged nested sequences (which is a list-or-tuple of lists-or-tuples-or ndarrays with different lengths or shapes) is deprecated. If you meant to do this, you must specify 'dtype=object' when creating the ndarray.\n",
            "  training = np.array(training)\n"
          ]
        }
      ],
      "source": [
        "\n",
        "training = []\n",
        "# Create an empty array for our output\n",
        "output_empty = [0] * len(classes)\n",
        "# Training set, bag of words for each sentence\n",
        "for doc in documents:\n",
        "    # Initialize our bag of words\n",
        "    bag = []\n",
        "    # List of tokenized words for the pattern\n",
        "    pattern_words = doc[0]\n",
        "    # Lemmatize each word - create base word, in an attempt to represent related words\n",
        "    pattern_words = [lemmatizer.lemmatize(word.lower()) for word in pattern_words]\n",
        "    # Create our bag of words array with 1 if the word match is found in the current pattern\n",
        "    for w in words:\n",
        "        bag.append(1) if w in pattern_words else bag.append(0)\n",
        "\n",
        "    # Output is '0' for each tag and '1' for the current tag (for each pattern)\n",
        "    output_row = list(output_empty)\n",
        "    output_row[classes.index(doc[1])] = 1\n",
        "\n",
        "    training.append([bag, output_row])\n",
        "\n",
        "# Shuffle our features and turn them into np.array\n",
        "random.shuffle(training)\n",
        "training = np.array(training)\n",
        "\n",
        "# Define the ratio for training and validation data\n",
        "train_ratio = 0.8  # 80% for training, 20% for validation\n",
        "\n",
        "# Calculate the split index\n",
        "split_index = int(len(training) * train_ratio)\n",
        "\n",
        "# Split the data into training and validation sets\n",
        "train_data = training[:split_index]\n",
        "validation_data = training[split_index:]\n",
        "\n",
        "# Create train and validation lists. X - patterns, Y - intents\n",
        "train_x = list(train_data[:, 0])\n",
        "train_y = list(train_data[:, 1])\n",
        "\n",
        "validation_x = list(validation_data[:, 0])\n",
        "validation_y = list(validation_data[:, 1])\n",
        "\n",
        "print(\"Training and validation data created\")"
      ]
    },
    {
      "cell_type": "markdown",
      "metadata": {
        "id": "q_WoZJbepnC9"
      },
      "source": [
        "## Create Model"
      ]
    },
    {
      "cell_type": "code",
      "execution_count": null,
      "metadata": {
        "colab": {
          "base_uri": "https://localhost:8080/"
        },
        "id": "UEmmA9bjpnC9",
        "outputId": "0be7cda0-aa80-4938-c6ba-28461d88380b"
      },
      "outputs": [
        {
          "output_type": "stream",
          "name": "stderr",
          "text": [
            "WARNING:absl:`lr` is deprecated in Keras optimizer, please use `learning_rate` or use the legacy optimizer, e.g.,tf.keras.optimizers.legacy.SGD.\n"
          ]
        },
        {
          "output_type": "stream",
          "name": "stdout",
          "text": [
            "Epoch 1/200\n",
            "43/43 [==============================] - 1s 7ms/step - loss: 4.1811 - accuracy: 0.0142 - val_loss: 4.1671 - val_accuracy: 0.0189\n",
            "Epoch 2/200\n",
            "43/43 [==============================] - 0s 3ms/step - loss: 4.1358 - accuracy: 0.0425 - val_loss: 4.1568 - val_accuracy: 0.0377\n",
            "Epoch 3/200\n",
            "43/43 [==============================] - 0s 3ms/step - loss: 4.0584 - accuracy: 0.0708 - val_loss: 4.1476 - val_accuracy: 0.0566\n",
            "Epoch 4/200\n",
            "43/43 [==============================] - 0s 3ms/step - loss: 4.0014 - accuracy: 0.0613 - val_loss: 4.1434 - val_accuracy: 0.0377\n",
            "Epoch 5/200\n",
            "43/43 [==============================] - 0s 3ms/step - loss: 3.9513 - accuracy: 0.1038 - val_loss: 4.1210 - val_accuracy: 0.0755\n",
            "Epoch 6/200\n",
            "43/43 [==============================] - 0s 3ms/step - loss: 3.8226 - accuracy: 0.0896 - val_loss: 4.0718 - val_accuracy: 0.1132\n",
            "Epoch 7/200\n",
            "43/43 [==============================] - 0s 3ms/step - loss: 3.7400 - accuracy: 0.1132 - val_loss: 4.0321 - val_accuracy: 0.1321\n",
            "Epoch 8/200\n",
            "43/43 [==============================] - 0s 3ms/step - loss: 3.6593 - accuracy: 0.1509 - val_loss: 4.0155 - val_accuracy: 0.1132\n",
            "Epoch 9/200\n",
            "43/43 [==============================] - 0s 3ms/step - loss: 3.4407 - accuracy: 0.1557 - val_loss: 3.9590 - val_accuracy: 0.1509\n",
            "Epoch 10/200\n",
            "43/43 [==============================] - 0s 3ms/step - loss: 3.3324 - accuracy: 0.1651 - val_loss: 3.8374 - val_accuracy: 0.1509\n",
            "Epoch 11/200\n",
            "43/43 [==============================] - 0s 3ms/step - loss: 3.1287 - accuracy: 0.2217 - val_loss: 3.7011 - val_accuracy: 0.2075\n",
            "Epoch 12/200\n",
            "43/43 [==============================] - 0s 3ms/step - loss: 3.0153 - accuracy: 0.2689 - val_loss: 3.6617 - val_accuracy: 0.1887\n",
            "Epoch 13/200\n",
            "43/43 [==============================] - 0s 3ms/step - loss: 2.7968 - accuracy: 0.2972 - val_loss: 3.5502 - val_accuracy: 0.1698\n",
            "Epoch 14/200\n",
            "43/43 [==============================] - 0s 3ms/step - loss: 2.7635 - accuracy: 0.3066 - val_loss: 3.4355 - val_accuracy: 0.1887\n",
            "Epoch 15/200\n",
            "43/43 [==============================] - 0s 3ms/step - loss: 2.4764 - accuracy: 0.4009 - val_loss: 3.3326 - val_accuracy: 0.2264\n",
            "Epoch 16/200\n",
            "43/43 [==============================] - 0s 3ms/step - loss: 2.2331 - accuracy: 0.4434 - val_loss: 3.1611 - val_accuracy: 0.2264\n",
            "Epoch 17/200\n",
            "43/43 [==============================] - 0s 3ms/step - loss: 2.2858 - accuracy: 0.4009 - val_loss: 3.0794 - val_accuracy: 0.2830\n",
            "Epoch 18/200\n",
            "43/43 [==============================] - 0s 3ms/step - loss: 2.1511 - accuracy: 0.4387 - val_loss: 3.0263 - val_accuracy: 0.2264\n",
            "Epoch 19/200\n",
            "43/43 [==============================] - 0s 3ms/step - loss: 2.0742 - accuracy: 0.4340 - val_loss: 2.9693 - val_accuracy: 0.2642\n",
            "Epoch 20/200\n",
            "43/43 [==============================] - 0s 3ms/step - loss: 1.9733 - accuracy: 0.5189 - val_loss: 2.9793 - val_accuracy: 0.2453\n",
            "Epoch 21/200\n",
            "43/43 [==============================] - 0s 3ms/step - loss: 1.9198 - accuracy: 0.4670 - val_loss: 2.9009 - val_accuracy: 0.3208\n",
            "Epoch 22/200\n",
            "43/43 [==============================] - 0s 3ms/step - loss: 1.6583 - accuracy: 0.5283 - val_loss: 2.9137 - val_accuracy: 0.2830\n",
            "Epoch 23/200\n",
            "43/43 [==============================] - 0s 3ms/step - loss: 1.7282 - accuracy: 0.5047 - val_loss: 2.8059 - val_accuracy: 0.3208\n",
            "Epoch 24/200\n",
            "43/43 [==============================] - 0s 3ms/step - loss: 1.6319 - accuracy: 0.5142 - val_loss: 2.8637 - val_accuracy: 0.2830\n",
            "Epoch 25/200\n",
            "43/43 [==============================] - 0s 3ms/step - loss: 1.4864 - accuracy: 0.5943 - val_loss: 2.7874 - val_accuracy: 0.3208\n",
            "Epoch 26/200\n",
            "43/43 [==============================] - 0s 3ms/step - loss: 1.3975 - accuracy: 0.5755 - val_loss: 2.7272 - val_accuracy: 0.3019\n",
            "Epoch 27/200\n",
            "43/43 [==============================] - 0s 3ms/step - loss: 1.4083 - accuracy: 0.6085 - val_loss: 2.7017 - val_accuracy: 0.3019\n",
            "Epoch 28/200\n",
            "43/43 [==============================] - 0s 3ms/step - loss: 1.2815 - accuracy: 0.6321 - val_loss: 2.6461 - val_accuracy: 0.3019\n",
            "Epoch 29/200\n",
            "43/43 [==============================] - 0s 4ms/step - loss: 1.2572 - accuracy: 0.6132 - val_loss: 2.5241 - val_accuracy: 0.2830\n",
            "Epoch 30/200\n",
            "43/43 [==============================] - 0s 5ms/step - loss: 1.2646 - accuracy: 0.6179 - val_loss: 2.5779 - val_accuracy: 0.3396\n",
            "Epoch 31/200\n",
            "43/43 [==============================] - 0s 6ms/step - loss: 1.2375 - accuracy: 0.6368 - val_loss: 2.6471 - val_accuracy: 0.3019\n",
            "Epoch 32/200\n",
            "43/43 [==============================] - 0s 6ms/step - loss: 1.1308 - accuracy: 0.6840 - val_loss: 2.5823 - val_accuracy: 0.4528\n",
            "Epoch 33/200\n",
            "43/43 [==============================] - 0s 5ms/step - loss: 1.1776 - accuracy: 0.6745 - val_loss: 2.5265 - val_accuracy: 0.3396\n",
            "Epoch 34/200\n",
            "43/43 [==============================] - 0s 5ms/step - loss: 1.0466 - accuracy: 0.6840 - val_loss: 2.6699 - val_accuracy: 0.3774\n",
            "Epoch 35/200\n",
            "43/43 [==============================] - 0s 5ms/step - loss: 1.2681 - accuracy: 0.6274 - val_loss: 2.5360 - val_accuracy: 0.4151\n",
            "Epoch 36/200\n",
            "43/43 [==============================] - 0s 5ms/step - loss: 1.0546 - accuracy: 0.6745 - val_loss: 2.4504 - val_accuracy: 0.3962\n",
            "Epoch 37/200\n",
            "43/43 [==============================] - 0s 4ms/step - loss: 1.0126 - accuracy: 0.7075 - val_loss: 2.5237 - val_accuracy: 0.3962\n",
            "Epoch 38/200\n",
            "43/43 [==============================] - 0s 5ms/step - loss: 0.8277 - accuracy: 0.7358 - val_loss: 2.5628 - val_accuracy: 0.4151\n",
            "Epoch 39/200\n",
            "43/43 [==============================] - 0s 4ms/step - loss: 0.9144 - accuracy: 0.7170 - val_loss: 2.5359 - val_accuracy: 0.3585\n",
            "Epoch 40/200\n",
            "43/43 [==============================] - 0s 5ms/step - loss: 0.8674 - accuracy: 0.7264 - val_loss: 2.7913 - val_accuracy: 0.3396\n",
            "Epoch 41/200\n",
            "43/43 [==============================] - 0s 6ms/step - loss: 0.8963 - accuracy: 0.7264 - val_loss: 2.7536 - val_accuracy: 0.3962\n",
            "Epoch 42/200\n",
            "43/43 [==============================] - 0s 4ms/step - loss: 0.9224 - accuracy: 0.6887 - val_loss: 2.5017 - val_accuracy: 0.3774\n",
            "Epoch 43/200\n",
            "43/43 [==============================] - 0s 4ms/step - loss: 0.9846 - accuracy: 0.7264 - val_loss: 2.5174 - val_accuracy: 0.3774\n",
            "Epoch 44/200\n",
            "43/43 [==============================] - 0s 5ms/step - loss: 0.8419 - accuracy: 0.7453 - val_loss: 2.6017 - val_accuracy: 0.4151\n",
            "Epoch 45/200\n",
            "43/43 [==============================] - 0s 6ms/step - loss: 0.8891 - accuracy: 0.6981 - val_loss: 2.6165 - val_accuracy: 0.4528\n",
            "Epoch 46/200\n",
            "43/43 [==============================] - 0s 5ms/step - loss: 0.9361 - accuracy: 0.7217 - val_loss: 2.5469 - val_accuracy: 0.4340\n",
            "Epoch 47/200\n",
            "43/43 [==============================] - 0s 4ms/step - loss: 0.8514 - accuracy: 0.7170 - val_loss: 2.5391 - val_accuracy: 0.4151\n",
            "Epoch 48/200\n",
            "43/43 [==============================] - 0s 4ms/step - loss: 0.7550 - accuracy: 0.7689 - val_loss: 2.5278 - val_accuracy: 0.3585\n",
            "Epoch 49/200\n",
            "43/43 [==============================] - 0s 4ms/step - loss: 0.8520 - accuracy: 0.7028 - val_loss: 2.5274 - val_accuracy: 0.4340\n",
            "Epoch 50/200\n",
            "43/43 [==============================] - 0s 5ms/step - loss: 0.8084 - accuracy: 0.7547 - val_loss: 2.4848 - val_accuracy: 0.4340\n",
            "Epoch 51/200\n",
            "43/43 [==============================] - 0s 5ms/step - loss: 0.7968 - accuracy: 0.7547 - val_loss: 2.4208 - val_accuracy: 0.4528\n",
            "Epoch 52/200\n",
            "43/43 [==============================] - 0s 5ms/step - loss: 0.7956 - accuracy: 0.7547 - val_loss: 2.4761 - val_accuracy: 0.4717\n",
            "Epoch 53/200\n",
            "43/43 [==============================] - 0s 6ms/step - loss: 0.6690 - accuracy: 0.8160 - val_loss: 2.5151 - val_accuracy: 0.4151\n",
            "Epoch 54/200\n",
            "43/43 [==============================] - 0s 4ms/step - loss: 0.7477 - accuracy: 0.7783 - val_loss: 2.4433 - val_accuracy: 0.4528\n",
            "Epoch 55/200\n",
            "43/43 [==============================] - 0s 4ms/step - loss: 0.5892 - accuracy: 0.8396 - val_loss: 2.5287 - val_accuracy: 0.4717\n",
            "Epoch 56/200\n",
            "43/43 [==============================] - 0s 3ms/step - loss: 0.6586 - accuracy: 0.7877 - val_loss: 2.5648 - val_accuracy: 0.4340\n",
            "Epoch 57/200\n",
            "43/43 [==============================] - 0s 3ms/step - loss: 0.7457 - accuracy: 0.7547 - val_loss: 2.4847 - val_accuracy: 0.5094\n",
            "Epoch 58/200\n",
            "43/43 [==============================] - 0s 3ms/step - loss: 0.7108 - accuracy: 0.7830 - val_loss: 2.5680 - val_accuracy: 0.4717\n",
            "Epoch 59/200\n",
            "43/43 [==============================] - 0s 3ms/step - loss: 0.6725 - accuracy: 0.7877 - val_loss: 2.5180 - val_accuracy: 0.3962\n",
            "Epoch 60/200\n",
            "43/43 [==============================] - 0s 3ms/step - loss: 0.6049 - accuracy: 0.8113 - val_loss: 2.6116 - val_accuracy: 0.4340\n",
            "Epoch 61/200\n",
            "43/43 [==============================] - 0s 3ms/step - loss: 0.5920 - accuracy: 0.8019 - val_loss: 2.6469 - val_accuracy: 0.5094\n",
            "Epoch 62/200\n",
            "43/43 [==============================] - 0s 3ms/step - loss: 0.5963 - accuracy: 0.8160 - val_loss: 2.6036 - val_accuracy: 0.4717\n",
            "Epoch 63/200\n",
            "43/43 [==============================] - 0s 3ms/step - loss: 0.7004 - accuracy: 0.8208 - val_loss: 2.5701 - val_accuracy: 0.4528\n",
            "Epoch 64/200\n",
            "43/43 [==============================] - 0s 3ms/step - loss: 0.5805 - accuracy: 0.7972 - val_loss: 2.5521 - val_accuracy: 0.4717\n",
            "Epoch 65/200\n",
            "43/43 [==============================] - 0s 3ms/step - loss: 0.5446 - accuracy: 0.7972 - val_loss: 2.4730 - val_accuracy: 0.4717\n",
            "Epoch 66/200\n",
            "43/43 [==============================] - 0s 3ms/step - loss: 0.6664 - accuracy: 0.8019 - val_loss: 2.4661 - val_accuracy: 0.4340\n",
            "Epoch 67/200\n",
            "43/43 [==============================] - 0s 3ms/step - loss: 0.5494 - accuracy: 0.8302 - val_loss: 2.5335 - val_accuracy: 0.4717\n",
            "Epoch 68/200\n",
            "43/43 [==============================] - 0s 3ms/step - loss: 0.5851 - accuracy: 0.8113 - val_loss: 2.5769 - val_accuracy: 0.4906\n",
            "Epoch 69/200\n",
            "43/43 [==============================] - 0s 3ms/step - loss: 0.6209 - accuracy: 0.8066 - val_loss: 2.6901 - val_accuracy: 0.5094\n",
            "Epoch 70/200\n",
            "43/43 [==============================] - 0s 3ms/step - loss: 0.7349 - accuracy: 0.7783 - val_loss: 2.4288 - val_accuracy: 0.4906\n",
            "Epoch 71/200\n",
            "43/43 [==============================] - 0s 3ms/step - loss: 0.6390 - accuracy: 0.7925 - val_loss: 2.6707 - val_accuracy: 0.4906\n",
            "Epoch 72/200\n",
            "43/43 [==============================] - 0s 3ms/step - loss: 0.6802 - accuracy: 0.7689 - val_loss: 2.5368 - val_accuracy: 0.5094\n",
            "Epoch 73/200\n",
            "43/43 [==============================] - 0s 3ms/step - loss: 0.5911 - accuracy: 0.8255 - val_loss: 2.5887 - val_accuracy: 0.4717\n",
            "Epoch 74/200\n",
            "43/43 [==============================] - 0s 3ms/step - loss: 0.5308 - accuracy: 0.8443 - val_loss: 2.6032 - val_accuracy: 0.4717\n",
            "Epoch 75/200\n",
            "43/43 [==============================] - 0s 3ms/step - loss: 0.5053 - accuracy: 0.8349 - val_loss: 2.7567 - val_accuracy: 0.4906\n",
            "Epoch 76/200\n",
            "43/43 [==============================] - 0s 3ms/step - loss: 0.4716 - accuracy: 0.8302 - val_loss: 2.7764 - val_accuracy: 0.4528\n",
            "Epoch 77/200\n",
            "43/43 [==============================] - 0s 3ms/step - loss: 0.4377 - accuracy: 0.8443 - val_loss: 2.6004 - val_accuracy: 0.4151\n",
            "Epoch 78/200\n",
            "43/43 [==============================] - 0s 3ms/step - loss: 0.5386 - accuracy: 0.8160 - val_loss: 2.5393 - val_accuracy: 0.4340\n",
            "Epoch 79/200\n",
            "43/43 [==============================] - 0s 3ms/step - loss: 0.6695 - accuracy: 0.8160 - val_loss: 2.5366 - val_accuracy: 0.4717\n",
            "Epoch 80/200\n",
            "43/43 [==============================] - 0s 3ms/step - loss: 0.5153 - accuracy: 0.8396 - val_loss: 2.5388 - val_accuracy: 0.4340\n",
            "Epoch 81/200\n",
            "43/43 [==============================] - 0s 3ms/step - loss: 0.6680 - accuracy: 0.8066 - val_loss: 2.4797 - val_accuracy: 0.5094\n",
            "Epoch 82/200\n",
            "43/43 [==============================] - 0s 3ms/step - loss: 0.5880 - accuracy: 0.8208 - val_loss: 2.5198 - val_accuracy: 0.4717\n",
            "Epoch 83/200\n",
            "43/43 [==============================] - 0s 3ms/step - loss: 0.5560 - accuracy: 0.8396 - val_loss: 2.5858 - val_accuracy: 0.5094\n",
            "Epoch 84/200\n",
            "43/43 [==============================] - 0s 3ms/step - loss: 0.5341 - accuracy: 0.8396 - val_loss: 2.5918 - val_accuracy: 0.4340\n",
            "Epoch 85/200\n",
            "43/43 [==============================] - 0s 3ms/step - loss: 0.4173 - accuracy: 0.8538 - val_loss: 2.5371 - val_accuracy: 0.4906\n",
            "Epoch 86/200\n",
            "43/43 [==============================] - 0s 3ms/step - loss: 0.5638 - accuracy: 0.8208 - val_loss: 2.5637 - val_accuracy: 0.4906\n",
            "Epoch 87/200\n",
            "43/43 [==============================] - 0s 3ms/step - loss: 0.5602 - accuracy: 0.8302 - val_loss: 2.6439 - val_accuracy: 0.4528\n",
            "Epoch 88/200\n",
            "43/43 [==============================] - 0s 3ms/step - loss: 0.4910 - accuracy: 0.8302 - val_loss: 2.5875 - val_accuracy: 0.4906\n",
            "Epoch 89/200\n",
            "43/43 [==============================] - 0s 3ms/step - loss: 0.6436 - accuracy: 0.7925 - val_loss: 2.5600 - val_accuracy: 0.4340\n",
            "Epoch 90/200\n",
            "43/43 [==============================] - 0s 3ms/step - loss: 0.4104 - accuracy: 0.8679 - val_loss: 2.7381 - val_accuracy: 0.3962\n",
            "Epoch 91/200\n",
            "43/43 [==============================] - 0s 3ms/step - loss: 0.4887 - accuracy: 0.8632 - val_loss: 2.5917 - val_accuracy: 0.4906\n",
            "Epoch 92/200\n",
            "43/43 [==============================] - 0s 3ms/step - loss: 0.5913 - accuracy: 0.8349 - val_loss: 2.5006 - val_accuracy: 0.4717\n",
            "Epoch 93/200\n",
            "43/43 [==============================] - 0s 3ms/step - loss: 0.4720 - accuracy: 0.8585 - val_loss: 2.6010 - val_accuracy: 0.4717\n",
            "Epoch 94/200\n",
            "43/43 [==============================] - 0s 3ms/step - loss: 0.5343 - accuracy: 0.8632 - val_loss: 2.5498 - val_accuracy: 0.5094\n",
            "Epoch 95/200\n",
            "43/43 [==============================] - 0s 3ms/step - loss: 0.5469 - accuracy: 0.8066 - val_loss: 2.5142 - val_accuracy: 0.5094\n",
            "Epoch 96/200\n",
            "43/43 [==============================] - 0s 3ms/step - loss: 0.4409 - accuracy: 0.8679 - val_loss: 2.5063 - val_accuracy: 0.4906\n",
            "Epoch 97/200\n",
            "43/43 [==============================] - 0s 3ms/step - loss: 0.4372 - accuracy: 0.8349 - val_loss: 2.7264 - val_accuracy: 0.5094\n",
            "Epoch 98/200\n",
            "43/43 [==============================] - 0s 3ms/step - loss: 0.4177 - accuracy: 0.8679 - val_loss: 2.9998 - val_accuracy: 0.4717\n",
            "Epoch 99/200\n",
            "43/43 [==============================] - 0s 3ms/step - loss: 0.4823 - accuracy: 0.8538 - val_loss: 2.8714 - val_accuracy: 0.5094\n",
            "Epoch 100/200\n",
            "43/43 [==============================] - 0s 3ms/step - loss: 0.4625 - accuracy: 0.8632 - val_loss: 2.7542 - val_accuracy: 0.4717\n",
            "Epoch 101/200\n",
            "43/43 [==============================] - 0s 3ms/step - loss: 0.4694 - accuracy: 0.8113 - val_loss: 2.6675 - val_accuracy: 0.4717\n",
            "Epoch 102/200\n",
            "43/43 [==============================] - 0s 3ms/step - loss: 0.6182 - accuracy: 0.8066 - val_loss: 2.6491 - val_accuracy: 0.4717\n",
            "Epoch 103/200\n",
            "43/43 [==============================] - 0s 4ms/step - loss: 0.4755 - accuracy: 0.8396 - val_loss: 2.7672 - val_accuracy: 0.4906\n",
            "Epoch 104/200\n",
            "43/43 [==============================] - 0s 3ms/step - loss: 0.4533 - accuracy: 0.8443 - val_loss: 2.7599 - val_accuracy: 0.4717\n",
            "Epoch 105/200\n",
            "43/43 [==============================] - 0s 3ms/step - loss: 0.4278 - accuracy: 0.8585 - val_loss: 2.9137 - val_accuracy: 0.4717\n",
            "Epoch 106/200\n",
            "43/43 [==============================] - 0s 3ms/step - loss: 0.4275 - accuracy: 0.8538 - val_loss: 2.8815 - val_accuracy: 0.4340\n",
            "Epoch 107/200\n",
            "43/43 [==============================] - 0s 3ms/step - loss: 0.4806 - accuracy: 0.8349 - val_loss: 2.9085 - val_accuracy: 0.4906\n",
            "Epoch 108/200\n",
            "43/43 [==============================] - 0s 4ms/step - loss: 0.3162 - accuracy: 0.9009 - val_loss: 3.0454 - val_accuracy: 0.4340\n",
            "Epoch 109/200\n",
            "43/43 [==============================] - 0s 3ms/step - loss: 0.5344 - accuracy: 0.8491 - val_loss: 2.8667 - val_accuracy: 0.4340\n",
            "Epoch 110/200\n",
            "43/43 [==============================] - 0s 3ms/step - loss: 0.4176 - accuracy: 0.8632 - val_loss: 2.9401 - val_accuracy: 0.5094\n",
            "Epoch 111/200\n",
            "43/43 [==============================] - 0s 3ms/step - loss: 0.4929 - accuracy: 0.8491 - val_loss: 2.8447 - val_accuracy: 0.4906\n",
            "Epoch 112/200\n",
            "43/43 [==============================] - 0s 3ms/step - loss: 0.4429 - accuracy: 0.8538 - val_loss: 2.9635 - val_accuracy: 0.4340\n",
            "Epoch 113/200\n",
            "43/43 [==============================] - 0s 3ms/step - loss: 0.6115 - accuracy: 0.8019 - val_loss: 2.7514 - val_accuracy: 0.5094\n",
            "Epoch 114/200\n",
            "43/43 [==============================] - 0s 3ms/step - loss: 0.4834 - accuracy: 0.8349 - val_loss: 2.9453 - val_accuracy: 0.4717\n",
            "Epoch 115/200\n",
            "43/43 [==============================] - 0s 3ms/step - loss: 0.5539 - accuracy: 0.8396 - val_loss: 2.6841 - val_accuracy: 0.5472\n",
            "Epoch 116/200\n",
            "43/43 [==============================] - 0s 3ms/step - loss: 0.4774 - accuracy: 0.8396 - val_loss: 2.6647 - val_accuracy: 0.5283\n",
            "Epoch 117/200\n",
            "43/43 [==============================] - 0s 3ms/step - loss: 0.4888 - accuracy: 0.8302 - val_loss: 2.5840 - val_accuracy: 0.5283\n",
            "Epoch 118/200\n",
            "43/43 [==============================] - 0s 3ms/step - loss: 0.5121 - accuracy: 0.8255 - val_loss: 2.7176 - val_accuracy: 0.5283\n",
            "Epoch 119/200\n",
            "43/43 [==============================] - 0s 3ms/step - loss: 0.4801 - accuracy: 0.8491 - val_loss: 2.6311 - val_accuracy: 0.5094\n",
            "Epoch 120/200\n",
            "43/43 [==============================] - 0s 3ms/step - loss: 0.5705 - accuracy: 0.8066 - val_loss: 2.8882 - val_accuracy: 0.4717\n",
            "Epoch 121/200\n",
            "43/43 [==============================] - 0s 3ms/step - loss: 0.5101 - accuracy: 0.8302 - val_loss: 2.8960 - val_accuracy: 0.5094\n",
            "Epoch 122/200\n",
            "43/43 [==============================] - 0s 4ms/step - loss: 0.5195 - accuracy: 0.8208 - val_loss: 2.8265 - val_accuracy: 0.4906\n",
            "Epoch 123/200\n",
            "43/43 [==============================] - 0s 3ms/step - loss: 0.4783 - accuracy: 0.8538 - val_loss: 2.7491 - val_accuracy: 0.5094\n",
            "Epoch 124/200\n",
            "43/43 [==============================] - 0s 5ms/step - loss: 0.4810 - accuracy: 0.8302 - val_loss: 2.8471 - val_accuracy: 0.5094\n",
            "Epoch 125/200\n",
            "43/43 [==============================] - 0s 6ms/step - loss: 0.4581 - accuracy: 0.8396 - val_loss: 2.7486 - val_accuracy: 0.4717\n",
            "Epoch 126/200\n",
            "43/43 [==============================] - 0s 6ms/step - loss: 0.6136 - accuracy: 0.8160 - val_loss: 2.7065 - val_accuracy: 0.5094\n",
            "Epoch 127/200\n",
            "43/43 [==============================] - 0s 4ms/step - loss: 0.4699 - accuracy: 0.8679 - val_loss: 2.7882 - val_accuracy: 0.5660\n",
            "Epoch 128/200\n",
            "43/43 [==============================] - 0s 5ms/step - loss: 0.4274 - accuracy: 0.8208 - val_loss: 2.8269 - val_accuracy: 0.4906\n",
            "Epoch 129/200\n",
            "43/43 [==============================] - 0s 4ms/step - loss: 0.5298 - accuracy: 0.8396 - val_loss: 2.9986 - val_accuracy: 0.4717\n",
            "Epoch 130/200\n",
            "43/43 [==============================] - 0s 4ms/step - loss: 0.3926 - accuracy: 0.8868 - val_loss: 3.0612 - val_accuracy: 0.4906\n",
            "Epoch 131/200\n",
            "43/43 [==============================] - 0s 5ms/step - loss: 0.4690 - accuracy: 0.8396 - val_loss: 2.9789 - val_accuracy: 0.4906\n",
            "Epoch 132/200\n",
            "43/43 [==============================] - 0s 4ms/step - loss: 0.4802 - accuracy: 0.8538 - val_loss: 2.9029 - val_accuracy: 0.4906\n",
            "Epoch 133/200\n",
            "43/43 [==============================] - 0s 5ms/step - loss: 0.4866 - accuracy: 0.8208 - val_loss: 2.8965 - val_accuracy: 0.5094\n",
            "Epoch 134/200\n",
            "43/43 [==============================] - 0s 5ms/step - loss: 0.5173 - accuracy: 0.8255 - val_loss: 2.9173 - val_accuracy: 0.5094\n",
            "Epoch 135/200\n",
            "43/43 [==============================] - 0s 4ms/step - loss: 0.3339 - accuracy: 0.8915 - val_loss: 3.1259 - val_accuracy: 0.4906\n",
            "Epoch 136/200\n",
            "43/43 [==============================] - 0s 5ms/step - loss: 0.5046 - accuracy: 0.8491 - val_loss: 3.1513 - val_accuracy: 0.5094\n",
            "Epoch 137/200\n",
            "43/43 [==============================] - 0s 6ms/step - loss: 0.5570 - accuracy: 0.8208 - val_loss: 3.0878 - val_accuracy: 0.5094\n",
            "Epoch 138/200\n",
            "43/43 [==============================] - 0s 5ms/step - loss: 0.4224 - accuracy: 0.8915 - val_loss: 3.1984 - val_accuracy: 0.5283\n",
            "Epoch 139/200\n",
            "43/43 [==============================] - 0s 5ms/step - loss: 0.3463 - accuracy: 0.8821 - val_loss: 3.2348 - val_accuracy: 0.5472\n",
            "Epoch 140/200\n",
            "43/43 [==============================] - 0s 6ms/step - loss: 0.4501 - accuracy: 0.8396 - val_loss: 3.1980 - val_accuracy: 0.5283\n",
            "Epoch 141/200\n",
            "43/43 [==============================] - 0s 5ms/step - loss: 0.3285 - accuracy: 0.9057 - val_loss: 3.2285 - val_accuracy: 0.4717\n",
            "Epoch 142/200\n",
            "43/43 [==============================] - 0s 4ms/step - loss: 0.4275 - accuracy: 0.8491 - val_loss: 3.2464 - val_accuracy: 0.4906\n",
            "Epoch 143/200\n",
            "43/43 [==============================] - 0s 4ms/step - loss: 0.4580 - accuracy: 0.8774 - val_loss: 3.1013 - val_accuracy: 0.4717\n",
            "Epoch 144/200\n",
            "43/43 [==============================] - 0s 5ms/step - loss: 0.4630 - accuracy: 0.8396 - val_loss: 3.2073 - val_accuracy: 0.4906\n",
            "Epoch 145/200\n",
            "43/43 [==============================] - 0s 4ms/step - loss: 0.5101 - accuracy: 0.8821 - val_loss: 2.9364 - val_accuracy: 0.5094\n",
            "Epoch 146/200\n",
            "43/43 [==============================] - 0s 6ms/step - loss: 0.4165 - accuracy: 0.8726 - val_loss: 2.8736 - val_accuracy: 0.4906\n",
            "Epoch 147/200\n",
            "43/43 [==============================] - 0s 5ms/step - loss: 0.5068 - accuracy: 0.8396 - val_loss: 2.9276 - val_accuracy: 0.5283\n",
            "Epoch 148/200\n",
            "43/43 [==============================] - 0s 4ms/step - loss: 0.3768 - accuracy: 0.8726 - val_loss: 2.9355 - val_accuracy: 0.5094\n",
            "Epoch 149/200\n",
            "43/43 [==============================] - 0s 4ms/step - loss: 0.3261 - accuracy: 0.8774 - val_loss: 3.1504 - val_accuracy: 0.5094\n",
            "Epoch 150/200\n",
            "43/43 [==============================] - 0s 4ms/step - loss: 0.4917 - accuracy: 0.8679 - val_loss: 3.1419 - val_accuracy: 0.4717\n",
            "Epoch 151/200\n",
            "43/43 [==============================] - 0s 3ms/step - loss: 0.3199 - accuracy: 0.8962 - val_loss: 3.1157 - val_accuracy: 0.4717\n",
            "Epoch 152/200\n",
            "43/43 [==============================] - 0s 4ms/step - loss: 0.4389 - accuracy: 0.8774 - val_loss: 3.0758 - val_accuracy: 0.5094\n",
            "Epoch 153/200\n",
            "43/43 [==============================] - 0s 3ms/step - loss: 0.4214 - accuracy: 0.8915 - val_loss: 2.9133 - val_accuracy: 0.5472\n",
            "Epoch 154/200\n",
            "43/43 [==============================] - 0s 3ms/step - loss: 0.4299 - accuracy: 0.8868 - val_loss: 2.8216 - val_accuracy: 0.5094\n",
            "Epoch 155/200\n",
            "43/43 [==============================] - 0s 3ms/step - loss: 0.2168 - accuracy: 0.9481 - val_loss: 2.8995 - val_accuracy: 0.4906\n",
            "Epoch 156/200\n",
            "43/43 [==============================] - 0s 4ms/step - loss: 0.4342 - accuracy: 0.8538 - val_loss: 2.8086 - val_accuracy: 0.4906\n",
            "Epoch 157/200\n",
            "43/43 [==============================] - 0s 3ms/step - loss: 0.3092 - accuracy: 0.8868 - val_loss: 2.8489 - val_accuracy: 0.5283\n",
            "Epoch 158/200\n",
            "43/43 [==============================] - 0s 3ms/step - loss: 0.3503 - accuracy: 0.8679 - val_loss: 2.9685 - val_accuracy: 0.4906\n",
            "Epoch 159/200\n",
            "43/43 [==============================] - 0s 3ms/step - loss: 0.4357 - accuracy: 0.8538 - val_loss: 2.9738 - val_accuracy: 0.5094\n",
            "Epoch 160/200\n",
            "43/43 [==============================] - 0s 3ms/step - loss: 0.4196 - accuracy: 0.8726 - val_loss: 2.9584 - val_accuracy: 0.4906\n",
            "Epoch 161/200\n",
            "43/43 [==============================] - 0s 3ms/step - loss: 0.5254 - accuracy: 0.8396 - val_loss: 2.9019 - val_accuracy: 0.4717\n",
            "Epoch 162/200\n",
            "43/43 [==============================] - 0s 3ms/step - loss: 0.5044 - accuracy: 0.8255 - val_loss: 3.0629 - val_accuracy: 0.4717\n",
            "Epoch 163/200\n",
            "43/43 [==============================] - 0s 3ms/step - loss: 0.3417 - accuracy: 0.8774 - val_loss: 3.3866 - val_accuracy: 0.4717\n",
            "Epoch 164/200\n",
            "43/43 [==============================] - 0s 3ms/step - loss: 0.3744 - accuracy: 0.8868 - val_loss: 3.5177 - val_accuracy: 0.4717\n",
            "Epoch 165/200\n",
            "43/43 [==============================] - 0s 4ms/step - loss: 0.5349 - accuracy: 0.8208 - val_loss: 3.1440 - val_accuracy: 0.5094\n",
            "Epoch 166/200\n",
            "43/43 [==============================] - 0s 3ms/step - loss: 0.3505 - accuracy: 0.9009 - val_loss: 3.1029 - val_accuracy: 0.5094\n",
            "Epoch 167/200\n",
            "43/43 [==============================] - 0s 3ms/step - loss: 0.3686 - accuracy: 0.8679 - val_loss: 3.1625 - val_accuracy: 0.5094\n",
            "Epoch 168/200\n",
            "43/43 [==============================] - 0s 3ms/step - loss: 0.2770 - accuracy: 0.9057 - val_loss: 3.1833 - val_accuracy: 0.4906\n",
            "Epoch 169/200\n",
            "43/43 [==============================] - 0s 3ms/step - loss: 0.3603 - accuracy: 0.8868 - val_loss: 3.1154 - val_accuracy: 0.5094\n",
            "Epoch 170/200\n",
            "43/43 [==============================] - 0s 3ms/step - loss: 0.3844 - accuracy: 0.8821 - val_loss: 3.2597 - val_accuracy: 0.5094\n",
            "Epoch 171/200\n",
            "43/43 [==============================] - 0s 3ms/step - loss: 0.3499 - accuracy: 0.9009 - val_loss: 3.2439 - val_accuracy: 0.4906\n",
            "Epoch 172/200\n",
            "43/43 [==============================] - 0s 4ms/step - loss: 0.4600 - accuracy: 0.8491 - val_loss: 3.2881 - val_accuracy: 0.4717\n",
            "Epoch 173/200\n",
            "43/43 [==============================] - 0s 4ms/step - loss: 0.4263 - accuracy: 0.8349 - val_loss: 3.2633 - val_accuracy: 0.4528\n",
            "Epoch 174/200\n",
            "43/43 [==============================] - 0s 3ms/step - loss: 0.4233 - accuracy: 0.8491 - val_loss: 3.3479 - val_accuracy: 0.4906\n",
            "Epoch 175/200\n",
            "43/43 [==============================] - 0s 3ms/step - loss: 0.3446 - accuracy: 0.8962 - val_loss: 3.3712 - val_accuracy: 0.4906\n",
            "Epoch 176/200\n",
            "43/43 [==============================] - 0s 3ms/step - loss: 0.3727 - accuracy: 0.8821 - val_loss: 3.3920 - val_accuracy: 0.4906\n",
            "Epoch 177/200\n",
            "43/43 [==============================] - 0s 3ms/step - loss: 0.5283 - accuracy: 0.8255 - val_loss: 2.9800 - val_accuracy: 0.5283\n",
            "Epoch 178/200\n",
            "43/43 [==============================] - 0s 3ms/step - loss: 0.4926 - accuracy: 0.8396 - val_loss: 3.0007 - val_accuracy: 0.4906\n",
            "Epoch 179/200\n",
            "43/43 [==============================] - 0s 3ms/step - loss: 0.4197 - accuracy: 0.8821 - val_loss: 3.0358 - val_accuracy: 0.5472\n",
            "Epoch 180/200\n",
            "43/43 [==============================] - 0s 4ms/step - loss: 0.3136 - accuracy: 0.8821 - val_loss: 3.0103 - val_accuracy: 0.5472\n",
            "Epoch 181/200\n",
            "43/43 [==============================] - 0s 3ms/step - loss: 0.4397 - accuracy: 0.8632 - val_loss: 3.0316 - val_accuracy: 0.4906\n",
            "Epoch 182/200\n",
            "43/43 [==============================] - 0s 3ms/step - loss: 0.3081 - accuracy: 0.9104 - val_loss: 3.1288 - val_accuracy: 0.5283\n",
            "Epoch 183/200\n",
            "43/43 [==============================] - 0s 3ms/step - loss: 0.4249 - accuracy: 0.8679 - val_loss: 3.2976 - val_accuracy: 0.4906\n",
            "Epoch 184/200\n",
            "43/43 [==============================] - 0s 3ms/step - loss: 0.4502 - accuracy: 0.8585 - val_loss: 3.3478 - val_accuracy: 0.5094\n",
            "Epoch 185/200\n",
            "43/43 [==============================] - 0s 3ms/step - loss: 0.3721 - accuracy: 0.8962 - val_loss: 3.2254 - val_accuracy: 0.5283\n",
            "Epoch 186/200\n",
            "43/43 [==============================] - 0s 3ms/step - loss: 0.3877 - accuracy: 0.9104 - val_loss: 2.9922 - val_accuracy: 0.5472\n",
            "Epoch 187/200\n",
            "43/43 [==============================] - 0s 4ms/step - loss: 0.4095 - accuracy: 0.8679 - val_loss: 3.0159 - val_accuracy: 0.5472\n",
            "Epoch 188/200\n",
            "43/43 [==============================] - 0s 3ms/step - loss: 0.3939 - accuracy: 0.8679 - val_loss: 3.1429 - val_accuracy: 0.5283\n",
            "Epoch 189/200\n",
            "43/43 [==============================] - 0s 3ms/step - loss: 0.4057 - accuracy: 0.8632 - val_loss: 2.9386 - val_accuracy: 0.5094\n",
            "Epoch 190/200\n",
            "43/43 [==============================] - 0s 4ms/step - loss: 0.4011 - accuracy: 0.8915 - val_loss: 3.1014 - val_accuracy: 0.4717\n",
            "Epoch 191/200\n",
            "43/43 [==============================] - 0s 3ms/step - loss: 0.4530 - accuracy: 0.8443 - val_loss: 3.1465 - val_accuracy: 0.4717\n",
            "Epoch 192/200\n",
            "43/43 [==============================] - 0s 3ms/step - loss: 0.4862 - accuracy: 0.8632 - val_loss: 3.0445 - val_accuracy: 0.4717\n",
            "Epoch 193/200\n",
            "43/43 [==============================] - 0s 3ms/step - loss: 0.4255 - accuracy: 0.8538 - val_loss: 3.0942 - val_accuracy: 0.4528\n",
            "Epoch 194/200\n",
            "43/43 [==============================] - 0s 3ms/step - loss: 0.3944 - accuracy: 0.8821 - val_loss: 3.1446 - val_accuracy: 0.4906\n",
            "Epoch 195/200\n",
            "43/43 [==============================] - 0s 3ms/step - loss: 0.3785 - accuracy: 0.8491 - val_loss: 3.1920 - val_accuracy: 0.5094\n",
            "Epoch 196/200\n",
            "43/43 [==============================] - 0s 3ms/step - loss: 0.4609 - accuracy: 0.8585 - val_loss: 3.1710 - val_accuracy: 0.5094\n",
            "Epoch 197/200\n",
            "43/43 [==============================] - 0s 3ms/step - loss: 0.4198 - accuracy: 0.8632 - val_loss: 3.0148 - val_accuracy: 0.5283\n",
            "Epoch 198/200\n",
            "43/43 [==============================] - 0s 3ms/step - loss: 0.4432 - accuracy: 0.8726 - val_loss: 2.9481 - val_accuracy: 0.4906\n",
            "Epoch 199/200\n",
            "43/43 [==============================] - 0s 3ms/step - loss: 0.3452 - accuracy: 0.8726 - val_loss: 3.0016 - val_accuracy: 0.5283\n",
            "Epoch 200/200\n",
            "43/43 [==============================] - 0s 3ms/step - loss: 0.3720 - accuracy: 0.8868 - val_loss: 2.9318 - val_accuracy: 0.5472\n",
            "Model created\n"
          ]
        }
      ],
      "source": [
        "import matplotlib.pyplot as plt\n",
        "\n",
        "# Create model - 3 layers. First layer 128 neurons, second layer 64 neurons, and 3rd output layer contains number of neurons\n",
        "# equal to the number of intents to predict output intent with softmax\n",
        "model = Sequential()\n",
        "model.add(Dense(128, input_shape=(len(train_x[0]),), activation='relu'))\n",
        "model.add(Dropout(0.5))\n",
        "model.add(Dense(64, activation='relu'))\n",
        "model.add(Dropout(0.5))\n",
        "model.add(Dense(len(train_y[0]), activation='softmax'))\n",
        "\n",
        "# Compile model. Stochastic gradient descent with Nesterov accelerated gradient gives good results for this model\n",
        "sgd = SGD(lr=0.01, momentum=0.9, nesterov=True)\n",
        "model.compile(loss='categorical_crossentropy', optimizer=sgd, metrics=['accuracy'])\n",
        "\n",
        "# Fitting the model and saving the history\n",
        "hist = model.fit(\n",
        "    np.array(train_x), np.array(train_y),\n",
        "    epochs=200, batch_size=5,\n",
        "    verbose=1,\n",
        "    validation_data=(np.array(validation_x), np.array(validation_y))\n",
        ")\n",
        "\n",
        "# Save the model\n",
        "model.save('chatbot_model.h5')\n",
        "\n",
        "# Print a message indicating that the model is created\n",
        "print(\"Model created\")"
      ]
    },
    {
      "cell_type": "code",
      "source": [
        "# Plotting the training and validation loss\n",
        "plt.plot(hist.history['loss'], label='Training Loss')\n",
        "plt.plot(hist.history['val_loss'], label='Validation Loss')\n",
        "plt.title('Training and Validation Loss')\n",
        "plt.xlabel('Epoch')\n",
        "plt.ylabel('Loss')\n",
        "plt.legend()\n",
        "plt.show()"
      ],
      "metadata": {
        "colab": {
          "base_uri": "https://localhost:8080/",
          "height": 472
        },
        "id": "9E6GIHJtqwpc",
        "outputId": "55f0e286-796a-40e3-f3a2-845093b3e212"
      },
      "execution_count": null,
      "outputs": [
        {
          "output_type": "display_data",
          "data": {
            "text/plain": [
              "<Figure size 640x480 with 1 Axes>"
            ],
            "image/png": "[encoded data removed]"
          },
          "metadata": {}
        }
      ]
    },
    {
      "cell_type": "code",
      "execution_count": null,
      "metadata": {
        "id": "v8f4oQ8NpnC-"
      },
      "outputs": [],
      "source": [
        "from keras.models import load_model\n",
        "model = load_model('chatbot_model.h5')\n",
        "import json\n",
        "import random\n",
        "intents = json.loads(open('/content/drive/MyDrive/intents.json').read())\n",
        "words = pickle.load(open('/content/drive/MyDrive/words.pkl','rb'))\n",
        "classes = pickle.load(open('/content/drive/MyDrive/classes.pkl','rb'))"
      ]
    },
    {
      "cell_type": "code",
      "execution_count": null,
      "metadata": {
        "id": "4ZOMjOKjpnC-"
      },
      "outputs": [],
      "source": [
        "def clean_up_sentence(sentence):\n",
        "    # tokenize the pattern - split words into array\n",
        "    sentence_words = nltk.word_tokenize(sentence)\n",
        "    # stem each word - create short form for word\n",
        "    sentence_words = [lemmatizer.lemmatize(word.lower()) for word in sentence_words]\n",
        "    return sentence_words\n",
        "# return bag of words array: 0 or 1 for each word in the bag that exists in the sentence"
      ]
    },
    {
      "cell_type": "code",
      "execution_count": null,
      "metadata": {
        "id": "BbeKw7dbpnC_"
      },
      "outputs": [],
      "source": [
        "def bow(sentence, words, show_details=True):\n",
        "    # tokenize the pattern\n",
        "    sentence_words = clean_up_sentence(sentence)\n",
        "    # bag of words - matrix of N words, vocabulary matrix\n",
        "    bag = [0]*len(words)\n",
        "    for s in sentence_words:\n",
        "        for i,w in enumerate(words):\n",
        "            if w == s:\n",
        "                # assign 1 if current word is in the vocabulary position\n",
        "                bag[i] = 1\n",
        "                if show_details:\n",
        "                    print (\"found in bag: %s\" % w)\n",
        "    return(np.array(bag))"
      ]
    },
    {
      "cell_type": "code",
      "execution_count": null,
      "metadata": {
        "id": "LPNlPAXhpnC_"
      },
      "outputs": [],
      "source": [
        "def predict_class(sentence, model):\n",
        "    # filter out predictions below a threshold\n",
        "    p = bow(sentence, words,show_details=False)\n",
        "    res = model.predict(np.array([p]))[0]\n",
        "    ERROR_THRESHOLD = 0.25\n",
        "    results = [[i,r] for i,r in enumerate(res) if r>ERROR_THRESHOLD]\n",
        "    # sort by strength of probability\n",
        "    results.sort(key=lambda x: x[1], reverse=True)\n",
        "    return_list = []\n",
        "    for r in results:\n",
        "        return_list.append({\"intent\": classes[r[0]], \"probability\": str(r[1])})\n",
        "    return return_list"
      ]
    },
    {
      "cell_type": "code",
      "execution_count": null,
      "metadata": {
        "id": "HPx47p4ypnC_"
      },
      "outputs": [],
      "source": [
        "def getResponse(ints, intents_json):\n",
        "    tag = ints[0]['intent']\n",
        "    list_of_intents = intents_json['intents']\n",
        "    for i in list_of_intents:\n",
        "        if(i['tag']== tag):\n",
        "            result = random.choice(i['responses'])\n",
        "            break\n",
        "    return result"
      ]
    },
    {
      "cell_type": "code",
      "execution_count": null,
      "metadata": {
        "id": "NxUhpDwLpnDA"
      },
      "outputs": [],
      "source": [
        "def chatbot_response(text):\n",
        "    ints = predict_class(text, model)\n",
        "    res = getResponse(ints, intents)\n",
        "    return res"
      ]
    },
    {
      "cell_type": "markdown",
      "metadata": {
        "id": "hpc2J7Y3pnDA"
      },
      "source": [
        "## GUI Interface"
      ]
    },
    {
      "cell_type": "code",
      "execution_count": null,
      "metadata": {
        "colab": {
          "base_uri": "https://localhost:8080/",
          "height": 980,
          "referenced_widgets": [
            "42abb2549025476eb142dc483b191a31",
            "a55cdcb2a2f74b5ba25250544b1dc490",
            "5a102005d5b14fc39ecb6d3610e2c111",
            "a4b5c4f5585c40d68a435067754098f7",
            "59c2c161d4e24c3580c67dccdb4abcfe",
            "11f2fc100c574b0594cb1dcaabdf80a9",
            "7b0efff0ab484f5d9507a06a1c6bab84",
            "7c95f66b2261417a8a3c953acb05404e",
            "5abe1d3f1dd04cb8bb576052f6a2e1af",
            "bfd779e153ce4c579aa3fb5a7b852695",
            "7ca28203000d4f3d8ebd855cf05cbae4",
            "483ad1633dc14a5eb6756ef892884477",
            "bcbafb810a954161a9af9af6aa0cb062",
            "bff1db4623224b9e99b57840c51c3310",
            "31c599fe61624c348ed1a4a2d2accac8",
            "2cc0401986244fc8bea856c174e2867e",
            "6407413acab24b3db0a5fd7c0c376ee5",
            "3efc64d1e4ee485aba1f654f88983485",
            "0de8bd6299ef4ec2b7d5a4910c895515",
            "bb44013901024c529c3a00d21ee724f9",
            "2d515b10dbc74814a49dddfb4c5be510",
            "15f4845306054f4fa70263c2f35480be",
            "bfe6511eedec400f834af57627da3440",
            "828634b5f8804a59b8de6af4fc91dd22",
            "92bb7e137da649b5803a71642c375dc4",
            "cd7e1e6991de46adbf27b2732772dc90",
            "521ac5c7b4d84c9db45fe32406dc7e3c",
            "5e7a8d3dad81438a8b5de902884483ce",
            "af0beb9d70b84ffe98b4966333297c94",
            "7d62a8086fc44f7793e4a07efcc95f8f",
            "d6817d5c96be4599822794d25b6c7d40",
            "c8ce22e5c19547d0a737d58330f55f23",
            "f5f661be9be74c8488b198059d03c43e",
            "1382da314c484e0186acb1aeccbeb666",
            "00f7fd00966f4b8b8c959ca3be1ffebb",
            "f67e19bccca04ce3820c26b6bb88a132",
            "837b6e40b4e24236b86213c01e5a0a9e",
            "418aa65fcfb34a61843a190b5a32904e",
            "00253379cc194162a56049e71aae3bac",
            "60d7787cfc184a619757160e0ac95471",
            "d5f0b160fdd846279a109af86a02424f",
            "b7bd0143dae844fb8d622b3c7a6e71a9",
            "71cef9d1fa59431b836968901b4bbe98",
            "245c7d6994ea4bd7b87cf39bc9e88a84",
            "526b24c26d4844de8d0a08639900d4d0",
            "9008ecf608a9460494bbc73bc88bf0f7",
            "c0d45ef7fb8a4d29bb5b89df885e3714",
            "1ed3710a8408411eb56429fb0c9e0b29",
            "01f4feb5f1e845858dbdb6a4f4b5d6f9",
            "62a80799625f4c1e891e319644cf37f1",
            "2dc2f02fd0c148d49cd40fb22d2290cf",
            "ce9300a5fcd1486ca6f4efca46caab16",
            "64976f4779974ebb97db1133994c4c23",
            "ede0613c5a1f4cecae44a27831d61796",
            "f283c25ea76f4dff8681c08554572f70",
            "728e03b129ff4a52aa397ee6dea77af1",
            "88670c05453a4481bb412167ac5f8fbf",
            "a0e5e4738e35416c9f76cd2b69a35dcc",
            "9b88d2cb30584a8cb93d232e50fd9088",
            "1e60b520a85943428945f94377fbeccf",
            "814d330ad6c3484fb1ff4ad3569504be",
            "ff114b321c5e4fd592f3dab1f7bc2730",
            "f5e26f91c249400b86211d65a8eaa51a",
            "b557b815aae045aca1c3ece829cff8bf",
            "273206b715664d20a4e16d8138f15d51",
            "5994d382ef3b43f4b578767d512d6646",
            "fff684b2e13e4cc1838cd1dde0cc48b3",
            "24b9861fae1b47a3ad1d600231604d3c",
            "04affb015a104f27a61ee264a7c58b09",
            "b8f80a0fe74e484d93adb0d4c1a72fd3",
            "4b599f6e90844669925885b5ab9fb18f",
            "65e2613426724e718a71d15d7d2585ad",
            "da62c18fbfb24f62ae90bf3564b8c515"
          ]
        },
        "id": "rOY5TBurpnDA",
        "outputId": "48951c37-b0c3-4901-97a0-7e2d65640de2"
      },
      "outputs": [
        {
          "output_type": "display_data",
          "data": {
            "text/plain": [
              "Output()"
            ],
            "application/vnd.jupyter.widget-view+json": {
              "version_major": 2,
              "version_minor": 0,
              "model_id": "42abb2549025476eb142dc483b191a31"
            }
          },
          "metadata": {}
        },
        {
          "output_type": "display_data",
          "data": {
            "text/plain": [
              "VBox(children=(Text(value='', description='You:', placeholder='Type a message'), Output()))"
            ],
            "application/vnd.jupyter.widget-view+json": {
              "version_major": 2,
              "version_minor": 0,
              "model_id": "5a102005d5b14fc39ecb6d3610e2c111"
            }
          },
          "metadata": {}
        },
        {
          "output_type": "display_data",
          "data": {
            "text/plain": [
              "HTML(value='<b>You:</b> hel<br>')"
            ],
            "application/vnd.jupyter.widget-view+json": {
              "version_major": 2,
              "version_minor": 0,
              "model_id": "7c95f66b2261417a8a3c953acb05404e"
            }
          },
          "metadata": {}
        },
        {
          "output_type": "stream",
          "name": "stdout",
          "text": [
            "1/1 [==============================] - 0s 67ms/step\n"
          ]
        },
        {
          "output_type": "display_data",
          "data": {
            "text/plain": [
              "HTML(value='<b>Bot:</b> Hello, thanks for visiting. My name is ecom_bot!<br>')"
            ],
            "application/vnd.jupyter.widget-view+json": {
              "version_major": 2,
              "version_minor": 0,
              "model_id": "7ca28203000d4f3d8ebd855cf05cbae4"
            }
          },
          "metadata": {}
        },
        {
          "output_type": "display_data",
          "data": {
            "text/plain": [
              "HTML(value='<b>You:</b> hello<br>')"
            ],
            "application/vnd.jupyter.widget-view+json": {
              "version_major": 2,
              "version_minor": 0,
              "model_id": "bff1db4623224b9e99b57840c51c3310"
            }
          },
          "metadata": {}
        },
        {
          "output_type": "stream",
          "name": "stdout",
          "text": [
            "1/1 [==============================] - 0s 22ms/step\n"
          ]
        },
        {
          "output_type": "display_data",
          "data": {
            "text/plain": [
              "HTML(value='<b>Bot:</b> Hey :-) My name is ecom_bot!<br>')"
            ],
            "application/vnd.jupyter.widget-view+json": {
              "version_major": 2,
              "version_minor": 0,
              "model_id": "6407413acab24b3db0a5fd7c0c376ee5"
            }
          },
          "metadata": {}
        },
        {
          "output_type": "display_data",
          "data": {
            "text/plain": [
              "HTML(value='<b>You:</b> i want to buy someth<br>')"
            ],
            "application/vnd.jupyter.widget-view+json": {
              "version_major": 2,
              "version_minor": 0,
              "model_id": "bb44013901024c529c3a00d21ee724f9"
            }
          },
          "metadata": {}
        },
        {
          "output_type": "stream",
          "name": "stdout",
          "text": [
            "1/1 [==============================] - 0s 41ms/step\n"
          ]
        },
        {
          "output_type": "display_data",
          "data": {
            "text/plain": [
              "HTML(value=\"<b>Bot:</b> You can easily add or change your account details by following the steps below: Step 1…"
            ],
            "application/vnd.jupyter.widget-view+json": {
              "version_major": 2,
              "version_minor": 0,
              "model_id": "bfe6511eedec400f834af57627da3440"
            }
          },
          "metadata": {}
        },
        {
          "output_type": "display_data",
          "data": {
            "text/plain": [
              "HTML(value='<b>You:</b> i need same support<br>')"
            ],
            "application/vnd.jupyter.widget-view+json": {
              "version_major": 2,
              "version_minor": 0,
              "model_id": "cd7e1e6991de46adbf27b2732772dc90"
            }
          },
          "metadata": {}
        },
        {
          "output_type": "stream",
          "name": "stdout",
          "text": [
            "1/1 [==============================] - 0s 87ms/step\n"
          ]
        },
        {
          "output_type": "display_data",
          "data": {
            "text/plain": [
              "HTML(value='<b>Bot:</b> Contact us for further information here: Phone: +212-111-1327. Timings are from 09:00 …"
            ],
            "application/vnd.jupyter.widget-view+json": {
              "version_major": 2,
              "version_minor": 0,
              "model_id": "af0beb9d70b84ffe98b4966333297c94"
            }
          },
          "metadata": {}
        },
        {
          "output_type": "display_data",
          "data": {
            "text/plain": [
              "HTML(value='<b>You:</b> can i cancel my order after payment<br>')"
            ],
            "application/vnd.jupyter.widget-view+json": {
              "version_major": 2,
              "version_minor": 0,
              "model_id": "c8ce22e5c19547d0a737d58330f55f23"
            }
          },
          "metadata": {}
        },
        {
          "output_type": "stream",
          "name": "stdout",
          "text": [
            "1/1 [==============================] - 0s 21ms/step\n"
          ]
        },
        {
          "output_type": "display_data",
          "data": {
            "text/plain": [
              "HTML(value=\"<b>Bot:</b> Orders can usually be canceled within a specified time frame. Check our order cancella…"
            ],
            "application/vnd.jupyter.widget-view+json": {
              "version_major": 2,
              "version_minor": 0,
              "model_id": "00f7fd00966f4b8b8c959ca3be1ffebb"
            }
          },
          "metadata": {}
        },
        {
          "output_type": "display_data",
          "data": {
            "text/plain": [
              "HTML(value='<b>You:</b> tell me about you live support<br>')"
            ],
            "application/vnd.jupyter.widget-view+json": {
              "version_major": 2,
              "version_minor": 0,
              "model_id": "418aa65fcfb34a61843a190b5a32904e"
            }
          },
          "metadata": {}
        },
        {
          "output_type": "stream",
          "name": "stdout",
          "text": [
            "1/1 [==============================] - 0s 30ms/step\n"
          ]
        },
        {
          "output_type": "display_data",
          "data": {
            "text/plain": [
              "HTML(value='<b>Bot:</b> Yes, we offer live chat support during specified hours. You can initiate a chat with o…"
            ],
            "application/vnd.jupyter.widget-view+json": {
              "version_major": 2,
              "version_minor": 0,
              "model_id": "d5f0b160fdd846279a109af86a02424f"
            }
          },
          "metadata": {}
        },
        {
          "output_type": "display_data",
          "data": {
            "text/plain": [
              "HTML(value='<b>You:</b> tell me about mutlipl shipments?<br>')"
            ],
            "application/vnd.jupyter.widget-view+json": {
              "version_major": 2,
              "version_minor": 0,
              "model_id": "245c7d6994ea4bd7b87cf39bc9e88a84"
            }
          },
          "metadata": {}
        },
        {
          "output_type": "stream",
          "name": "stdout",
          "text": [
            "1/1 [==============================] - 0s 22ms/step\n"
          ]
        },
        {
          "output_type": "display_data",
          "data": {
            "text/plain": [
              "HTML(value='<b>Bot:</b> Yes, we currently have [X]% off on [specific category/product].<br>')"
            ],
            "application/vnd.jupyter.widget-view+json": {
              "version_major": 2,
              "version_minor": 0,
              "model_id": "c0d45ef7fb8a4d29bb5b89df885e3714"
            }
          },
          "metadata": {}
        },
        {
          "output_type": "display_data",
          "data": {
            "text/plain": [
              "HTML(value='<b>You:</b> tell me about product care recommandations<br>')"
            ],
            "application/vnd.jupyter.widget-view+json": {
              "version_major": 2,
              "version_minor": 0,
              "model_id": "62a80799625f4c1e891e319644cf37f1"
            }
          },
          "metadata": {}
        },
        {
          "output_type": "stream",
          "name": "stdout",
          "text": [
            "1/1 [==============================] - 0s 20ms/step\n"
          ]
        },
        {
          "output_type": "display_data",
          "data": {
            "text/plain": [
              "HTML(value='<b>Bot:</b> Product care recommendations are usually provided on the product page. Additionally, c…"
            ],
            "application/vnd.jupyter.widget-view+json": {
              "version_major": 2,
              "version_minor": 0,
              "model_id": "64976f4779974ebb97db1133994c4c23"
            }
          },
          "metadata": {}
        },
        {
          "output_type": "display_data",
          "data": {
            "text/plain": [
              "HTML(value='<b>You:</b> do you offer internationnel shipping<br>')"
            ],
            "application/vnd.jupyter.widget-view+json": {
              "version_major": 2,
              "version_minor": 0,
              "model_id": "728e03b129ff4a52aa397ee6dea77af1"
            }
          },
          "metadata": {}
        },
        {
          "output_type": "stream",
          "name": "stdout",
          "text": [
            "1/1 [==============================] - 0s 21ms/step\n"
          ]
        },
        {
          "output_type": "display_data",
          "data": {
            "text/plain": [
              "HTML(value='<b>Bot:</b> Yes, we offer international shipping. Shipping rates and delivery times vary by destin…"
            ],
            "application/vnd.jupyter.widget-view+json": {
              "version_major": 2,
              "version_minor": 0,
              "model_id": "9b88d2cb30584a8cb93d232e50fd9088"
            }
          },
          "metadata": {}
        },
        {
          "output_type": "display_data",
          "data": {
            "text/plain": [
              "HTML(value='<b>You:</b> what do you sell<br>')"
            ],
            "application/vnd.jupyter.widget-view+json": {
              "version_major": 2,
              "version_minor": 0,
              "model_id": "ff114b321c5e4fd592f3dab1f7bc2730"
            }
          },
          "metadata": {}
        },
        {
          "output_type": "stream",
          "name": "stdout",
          "text": [
            "1/1 [==============================] - 0s 45ms/step\n"
          ]
        },
        {
          "output_type": "display_data",
          "data": {
            "text/plain": [
              "HTML(value=\"<b>Bot:</b> Search your preference in our flagship store's search bar to see all available product…"
            ],
            "application/vnd.jupyter.widget-view+json": {
              "version_major": 2,
              "version_minor": 0,
              "model_id": "273206b715664d20a4e16d8138f15d51"
            }
          },
          "metadata": {}
        },
        {
          "output_type": "display_data",
          "data": {
            "text/plain": [
              "HTML(value='<b>You:</b> how can i track my order<br>')"
            ],
            "application/vnd.jupyter.widget-view+json": {
              "version_major": 2,
              "version_minor": 0,
              "model_id": "24b9861fae1b47a3ad1d600231604d3c"
            }
          },
          "metadata": {}
        },
        {
          "output_type": "stream",
          "name": "stdout",
          "text": [
            "1/1 [==============================] - 0s 39ms/step\n"
          ]
        },
        {
          "output_type": "display_data",
          "data": {
            "text/plain": [
              "HTML(value=\"<b>Bot:</b> Visit the order page, click on the specific order, select 'track my order', and check …"
            ],
            "application/vnd.jupyter.widget-view+json": {
              "version_major": 2,
              "version_minor": 0,
              "model_id": "4b599f6e90844669925885b5ab9fb18f"
            }
          },
          "metadata": {}
        }
      ],
      "source": [
        "import ipywidgets as widgets\n",
        "from IPython.display import display\n",
        "\n",
        "def send_message(sender):\n",
        "    msg = input_box.value\n",
        "    display_message(\"You\", msg)\n",
        "    response = chatbot_response(msg)\n",
        "    display_message(\"Bot\", response)\n",
        "    input_box.value = \"\"\n",
        "\n",
        "def display_message(sender, message):\n",
        "    message_widget = widgets.HTML(value=f\"<b>{sender}:</b> {message}<br>\")\n",
        "    display(message_widget)\n",
        "\n",
        "# Create input box\n",
        "input_box = widgets.Text(placeholder='Type a message', description='You:')\n",
        "input_box.on_submit(send_message)\n",
        "\n",
        "# Display chat log\n",
        "chat_log = widgets.Output()\n",
        "display(chat_log)\n",
        "\n",
        "# Arrange widgets\n",
        "widgets.VBox([input_box, chat_log])"
      ]
    }
  ],
  "metadata": {
    "kernelspec": {
      "display_name": "Python 3",
      "name": "python3"
    },
    "language_info": {
      "codemirror_mode": {
        "name": "ipython",
        "version": 3
      },
      "file_extension": ".py",
      "mimetype": "text/x-python",
      "name": "python",
      "nbconvert_exporter": "python",
      "pygments_lexer": "ipython3",
      "version": "3.9.7"
    },
    "colab": {
      "provenance": [],
      "gpuType": "T4"
    },
    "accelerator": "GPU",
    "widgets": {
      "application/vnd.jupyter.widget-state+json": {
        "42abb2549025476eb142dc483b191a31": {
          "model_module": "@jupyter-widgets/output",
          "model_name": "OutputModel",
          "model_module_version": "1.0.0",
          "state": {
            "_dom_classes": [],
            "_model_module": "@jupyter-widgets/output",
            "_model_module_version": "1.0.0",
            "_model_name": "OutputModel",
            "_view_count": null,
            "_view_module": "@jupyter-widgets/output",
            "_view_module_version": "1.0.0",
            "_view_name": "OutputView",
            "layout": "IPY_MODEL_a55cdcb2a2f74b5ba25250544b1dc490",
            "msg_id": "",
            "outputs": []
          }
        },
        "a55cdcb2a2f74b5ba25250544b1dc490": {
          "model_module": "@jupyter-widgets/base",
          "model_name": "LayoutModel",
          "model_module_version": "1.2.0",
          "state": {
            "_model_module": "@jupyter-widgets/base",
            "_model_module_version": "1.2.0",
            "_model_name": "LayoutModel",
            "_view_count": null,
            "_view_module": "@jupyter-widgets/base",
            "_view_module_version": "1.2.0",
            "_view_name": "LayoutView",
            "align_content": null,
            "align_items": null,
            "align_self": null,
            "border": null,
            "bottom": null,
            "display": null,
            "flex": null,
            "flex_flow": null,
            "grid_area": null,
            "grid_auto_columns": null,
            "grid_auto_flow": null,
            "grid_auto_rows": null,
            "grid_column": null,
            "grid_gap": null,
            "grid_row": null,
            "grid_template_areas": null,
            "grid_template_columns": null,
            "grid_template_rows": null,
            "height": null,
            "justify_content": null,
            "justify_items": null,
            "left": null,
            "margin": null,
            "max_height": null,
            "max_width": null,
            "min_height": null,
            "min_width": null,
            "object_fit": null,
            "object_position": null,
            "order": null,
            "overflow": null,
            "overflow_x": null,
            "overflow_y": null,
            "padding": null,
            "right": null,
            "top": null,
            "visibility": null,
            "width": null
          }
        },
        "5a102005d5b14fc39ecb6d3610e2c111": {
          "model_module": "@jupyter-widgets/controls",
          "model_name": "VBoxModel",
          "model_module_version": "1.5.0",
          "state": {
            "_dom_classes": [],
            "_model_module": "@jupyter-widgets/controls",
            "_model_module_version": "1.5.0",
            "_model_name": "VBoxModel",
            "_view_count": null,
            "_view_module": "@jupyter-widgets/controls",
            "_view_module_version": "1.5.0",
            "_view_name": "VBoxView",
            "box_style": "",
            "children": [
              "IPY_MODEL_a4b5c4f5585c40d68a435067754098f7",
              "IPY_MODEL_42abb2549025476eb142dc483b191a31"
            ],
            "layout": "IPY_MODEL_59c2c161d4e24c3580c67dccdb4abcfe"
          }
        },
        "a4b5c4f5585c40d68a435067754098f7": {
          "model_module": "@jupyter-widgets/controls",
          "model_name": "TextModel",
          "model_module_version": "1.5.0",
          "state": {
            "_dom_classes": [],
            "_model_module": "@jupyter-widgets/controls",
            "_model_module_version": "1.5.0",
            "_model_name": "TextModel",
            "_view_count": null,
            "_view_module": "@jupyter-widgets/controls",
            "_view_module_version": "1.5.0",
            "_view_name": "TextView",
            "continuous_update": true,
            "description": "You:",
            "description_tooltip": null,
            "disabled": false,
            "layout": "IPY_MODEL_11f2fc100c574b0594cb1dcaabdf80a9",
            "placeholder": "Type a message",
            "style": "IPY_MODEL_7b0efff0ab484f5d9507a06a1c6bab84",
            "value": ""
          }
        },
        "59c2c161d4e24c3580c67dccdb4abcfe": {
          "model_module": "@jupyter-widgets/base",
          "model_name": "LayoutModel",
          "model_module_version": "1.2.0",
          "state": {
            "_model_module": "@jupyter-widgets/base",
            "_model_module_version": "1.2.0",
            "_model_name": "LayoutModel",
            "_view_count": null,
            "_view_module": "@jupyter-widgets/base",
            "_view_module_version": "1.2.0",
            "_view_name": "LayoutView",
            "align_content": null,
            "align_items": null,
            "align_self": null,
            "border": null,
            "bottom": null,
            "display": null,
            "flex": null,
            "flex_flow": null,
            "grid_area": null,
            "grid_auto_columns": null,
            "grid_auto_flow": null,
            "grid_auto_rows": null,
            "grid_column": null,
            "grid_gap": null,
            "grid_row": null,
            "grid_template_areas": null,
            "grid_template_columns": null,
            "grid_template_rows": null,
            "height": null,
            "justify_content": null,
            "justify_items": null,
            "left": null,
            "margin": null,
            "max_height": null,
            "max_width": null,
            "min_height": null,
            "min_width": null,
            "object_fit": null,
            "object_position": null,
            "order": null,
            "overflow": null,
            "overflow_x": null,
            "overflow_y": null,
            "padding": null,
            "right": null,
            "top": null,
            "visibility": null,
            "width": null
          }
        },
        "11f2fc100c574b0594cb1dcaabdf80a9": {
          "model_module": "@jupyter-widgets/base",
          "model_name": "LayoutModel",
          "model_module_version": "1.2.0",
          "state": {
            "_model_module": "@jupyter-widgets/base",
            "_model_module_version": "1.2.0",
            "_model_name": "LayoutModel",
            "_view_count": null,
            "_view_module": "@jupyter-widgets/base",
            "_view_module_version": "1.2.0",
            "_view_name": "LayoutView",
            "align_content": null,
            "align_items": null,
            "align_self": null,
            "border": null,
            "bottom": null,
            "display": null,
            "flex": null,
            "flex_flow": null,
            "grid_area": null,
            "grid_auto_columns": null,
            "grid_auto_flow": null,
            "grid_auto_rows": null,
            "grid_column": null,
            "grid_gap": null,
            "grid_row": null,
            "grid_template_areas": null,
            "grid_template_columns": null,
            "grid_template_rows": null,
            "height": null,
            "justify_content": null,
            "justify_items": null,
            "left": null,
            "margin": null,
            "max_height": null,
            "max_width": null,
            "min_height": null,
            "min_width": null,
            "object_fit": null,
            "object_position": null,
            "order": null,
            "overflow": null,
            "overflow_x": null,
            "overflow_y": null,
            "padding": null,
            "right": null,
            "top": null,
            "visibility": null,
            "width": null
          }
        },
        "7b0efff0ab484f5d9507a06a1c6bab84": {
          "model_module": "@jupyter-widgets/controls",
          "model_name": "DescriptionStyleModel",
          "model_module_version": "1.5.0",
          "state": {
            "_model_module": "@jupyter-widgets/controls",
            "_model_module_version": "1.5.0",
            "_model_name": "DescriptionStyleModel",
            "_view_count": null,
            "_view_module": "@jupyter-widgets/base",
            "_view_module_version": "1.2.0",
            "_view_name": "StyleView",
            "description_width": ""
          }
        },
        "7c95f66b2261417a8a3c953acb05404e": {
          "model_module": "@jupyter-widgets/controls",
          "model_name": "HTMLModel",
          "model_module_version": "1.5.0",
          "state": {
            "_dom_classes": [],
            "_model_module": "@jupyter-widgets/controls",
            "_model_module_version": "1.5.0",
            "_model_name": "HTMLModel",
            "_view_count": null,
            "_view_module": "@jupyter-widgets/controls",
            "_view_module_version": "1.5.0",
            "_view_name": "HTMLView",
            "description": "",
            "description_tooltip": null,
            "layout": "IPY_MODEL_5abe1d3f1dd04cb8bb576052f6a2e1af",
            "placeholder": "​",
            "style": "IPY_MODEL_bfd779e153ce4c579aa3fb5a7b852695",
            "value": "<b>You:</b> hel<br>"
          }
        },
        "5abe1d3f1dd04cb8bb576052f6a2e1af": {
          "model_module": "@jupyter-widgets/base",
          "model_name": "LayoutModel",
          "model_module_version": "1.2.0",
          "state": {
            "_model_module": "@jupyter-widgets/base",
            "_model_module_version": "1.2.0",
            "_model_name": "LayoutModel",
            "_view_count": null,
            "_view_module": "@jupyter-widgets/base",
            "_view_module_version": "1.2.0",
            "_view_name": "LayoutView",
            "align_content": null,
            "align_items": null,
            "align_self": null,
            "border": null,
            "bottom": null,
            "display": null,
            "flex": null,
            "flex_flow": null,
            "grid_area": null,
            "grid_auto_columns": null,
            "grid_auto_flow": null,
            "grid_auto_rows": null,
            "grid_column": null,
            "grid_gap": null,
            "grid_row": null,
            "grid_template_areas": null,
            "grid_template_columns": null,
            "grid_template_rows": null,
            "height": null,
            "justify_content": null,
            "justify_items": null,
            "left": null,
            "margin": null,
            "max_height": null,
            "max_width": null,
            "min_height": null,
            "min_width": null,
            "object_fit": null,
            "object_position": null,
            "order": null,
            "overflow": null,
            "overflow_x": null,
            "overflow_y": null,
            "padding": null,
            "right": null,
            "top": null,
            "visibility": null,
            "width": null
          }
        },
        "bfd779e153ce4c579aa3fb5a7b852695": {
          "model_module": "@jupyter-widgets/controls",
          "model_name": "DescriptionStyleModel",
          "model_module_version": "1.5.0",
          "state": {
            "_model_module": "@jupyter-widgets/controls",
            "_model_module_version": "1.5.0",
            "_model_name": "DescriptionStyleModel",
            "_view_count": null,
            "_view_module": "@jupyter-widgets/base",
            "_view_module_version": "1.2.0",
            "_view_name": "StyleView",
            "description_width": ""
          }
        },
        "7ca28203000d4f3d8ebd855cf05cbae4": {
          "model_module": "@jupyter-widgets/controls",
          "model_name": "HTMLModel",
          "model_module_version": "1.5.0",
          "state": {
            "_dom_classes": [],
            "_model_module": "@jupyter-widgets/controls",
            "_model_module_version": "1.5.0",
            "_model_name": "HTMLModel",
            "_view_count": null,
            "_view_module": "@jupyter-widgets/controls",
            "_view_module_version": "1.5.0",
            "_view_name": "HTMLView",
            "description": "",
            "description_tooltip": null,
            "layout": "IPY_MODEL_483ad1633dc14a5eb6756ef892884477",
            "placeholder": "​",
            "style": "IPY_MODEL_bcbafb810a954161a9af9af6aa0cb062",
            "value": "<b>Bot:</b> Hello, thanks for visiting. My name is ecom_bot!<br>"
          }
        },
        "483ad1633dc14a5eb6756ef892884477": {
          "model_module": "@jupyter-widgets/base",
          "model_name": "LayoutModel",
          "model_module_version": "1.2.0",
          "state": {
            "_model_module": "@jupyter-widgets/base",
            "_model_module_version": "1.2.0",
            "_model_name": "LayoutModel",
            "_view_count": null,
            "_view_module": "@jupyter-widgets/base",
            "_view_module_version": "1.2.0",
            "_view_name": "LayoutView",
            "align_content": null,
            "align_items": null,
            "align_self": null,
            "border": null,
            "bottom": null,
            "display": null,
            "flex": null,
            "flex_flow": null,
            "grid_area": null,
            "grid_auto_columns": null,
            "grid_auto_flow": null,
            "grid_auto_rows": null,
            "grid_column": null,
            "grid_gap": null,
            "grid_row": null,
            "grid_template_areas": null,
            "grid_template_columns": null,
            "grid_template_rows": null,
            "height": null,
            "justify_content": null,
            "justify_items": null,
            "left": null,
            "margin": null,
            "max_height": null,
            "max_width": null,
            "min_height": null,
            "min_width": null,
            "object_fit": null,
            "object_position": null,
            "order": null,
            "overflow": null,
            "overflow_x": null,
            "overflow_y": null,
            "padding": null,
            "right": null,
            "top": null,
            "visibility": null,
            "width": null
          }
        },
        "bcbafb810a954161a9af9af6aa0cb062": {
          "model_module": "@jupyter-widgets/controls",
          "model_name": "DescriptionStyleModel",
          "model_module_version": "1.5.0",
          "state": {
            "_model_module": "@jupyter-widgets/controls",
            "_model_module_version": "1.5.0",
            "_model_name": "DescriptionStyleModel",
            "_view_count": null,
            "_view_module": "@jupyter-widgets/base",
            "_view_module_version": "1.2.0",
            "_view_name": "StyleView",
            "description_width": ""
          }
        },
        "bff1db4623224b9e99b57840c51c3310": {
          "model_module": "@jupyter-widgets/controls",
          "model_name": "HTMLModel",
          "model_module_version": "1.5.0",
          "state": {
            "_dom_classes": [],
            "_model_module": "@jupyter-widgets/controls",
            "_model_module_version": "1.5.0",
            "_model_name": "HTMLModel",
            "_view_count": null,
            "_view_module": "@jupyter-widgets/controls",
            "_view_module_version": "1.5.0",
            "_view_name": "HTMLView",
            "description": "",
            "description_tooltip": null,
            "layout": "IPY_MODEL_31c599fe61624c348ed1a4a2d2accac8",
            "placeholder": "​",
            "style": "IPY_MODEL_2cc0401986244fc8bea856c174e2867e",
            "value": "<b>You:</b> hello<br>"
          }
        },
        "31c599fe61624c348ed1a4a2d2accac8": {
          "model_module": "@jupyter-widgets/base",
          "model_name": "LayoutModel",
          "model_module_version": "1.2.0",
          "state": {
            "_model_module": "@jupyter-widgets/base",
            "_model_module_version": "1.2.0",
            "_model_name": "LayoutModel",
            "_view_count": null,
            "_view_module": "@jupyter-widgets/base",
            "_view_module_version": "1.2.0",
            "_view_name": "LayoutView",
            "align_content": null,
            "align_items": null,
            "align_self": null,
            "border": null,
            "bottom": null,
            "display": null,
            "flex": null,
            "flex_flow": null,
            "grid_area": null,
            "grid_auto_columns": null,
            "grid_auto_flow": null,
            "grid_auto_rows": null,
            "grid_column": null,
            "grid_gap": null,
            "grid_row": null,
            "grid_template_areas": null,
            "grid_template_columns": null,
            "grid_template_rows": null,
            "height": null,
            "justify_content": null,
            "justify_items": null,
            "left": null,
            "margin": null,
            "max_height": null,
            "max_width": null,
            "min_height": null,
            "min_width": null,
            "object_fit": null,
            "object_position": null,
            "order": null,
            "overflow": null,
            "overflow_x": null,
            "overflow_y": null,
            "padding": null,
            "right": null,
            "top": null,
            "visibility": null,
            "width": null
          }
        },
        "2cc0401986244fc8bea856c174e2867e": {
          "model_module": "@jupyter-widgets/controls",
          "model_name": "DescriptionStyleModel",
          "model_module_version": "1.5.0",
          "state": {
            "_model_module": "@jupyter-widgets/controls",
            "_model_module_version": "1.5.0",
            "_model_name": "DescriptionStyleModel",
            "_view_count": null,
            "_view_module": "@jupyter-widgets/base",
            "_view_module_version": "1.2.0",
            "_view_name": "StyleView",
            "description_width": ""
          }
        },
        "6407413acab24b3db0a5fd7c0c376ee5": {
          "model_module": "@jupyter-widgets/controls",
          "model_name": "HTMLModel",
          "model_module_version": "1.5.0",
          "state": {
            "_dom_classes": [],
            "_model_module": "@jupyter-widgets/controls",
            "_model_module_version": "1.5.0",
            "_model_name": "HTMLModel",
            "_view_count": null,
            "_view_module": "@jupyter-widgets/controls",
            "_view_module_version": "1.5.0",
            "_view_name": "HTMLView",
            "description": "",
            "description_tooltip": null,
            "layout": "IPY_MODEL_3efc64d1e4ee485aba1f654f88983485",
            "placeholder": "​",
            "style": "IPY_MODEL_0de8bd6299ef4ec2b7d5a4910c895515",
            "value": "<b>Bot:</b> Hey :-) My name is ecom_bot!<br>"
          }
        },
        "3efc64d1e4ee485aba1f654f88983485": {
          "model_module": "@jupyter-widgets/base",
          "model_name": "LayoutModel",
          "model_module_version": "1.2.0",
          "state": {
            "_model_module": "@jupyter-widgets/base",
            "_model_module_version": "1.2.0",
            "_model_name": "LayoutModel",
            "_view_count": null,
            "_view_module": "@jupyter-widgets/base",
            "_view_module_version": "1.2.0",
            "_view_name": "LayoutView",
            "align_content": null,
            "align_items": null,
            "align_self": null,
            "border": null,
            "bottom": null,
            "display": null,
            "flex": null,
            "flex_flow": null,
            "grid_area": null,
            "grid_auto_columns": null,
            "grid_auto_flow": null,
            "grid_auto_rows": null,
            "grid_column": null,
            "grid_gap": null,
            "grid_row": null,
            "grid_template_areas": null,
            "grid_template_columns": null,
            "grid_template_rows": null,
            "height": null,
            "justify_content": null,
            "justify_items": null,
            "left": null,
            "margin": null,
            "max_height": null,
            "max_width": null,
            "min_height": null,
            "min_width": null,
            "object_fit": null,
            "object_position": null,
            "order": null,
            "overflow": null,
            "overflow_x": null,
            "overflow_y": null,
            "padding": null,
            "right": null,
            "top": null,
            "visibility": null,
            "width": null
          }
        },
        "0de8bd6299ef4ec2b7d5a4910c895515": {
          "model_module": "@jupyter-widgets/controls",
          "model_name": "DescriptionStyleModel",
          "model_module_version": "1.5.0",
          "state": {
            "_model_module": "@jupyter-widgets/controls",
            "_model_module_version": "1.5.0",
            "_model_name": "DescriptionStyleModel",
            "_view_count": null,
            "_view_module": "@jupyter-widgets/base",
            "_view_module_version": "1.2.0",
            "_view_name": "StyleView",
            "description_width": ""
          }
        },
        "bb44013901024c529c3a00d21ee724f9": {
          "model_module": "@jupyter-widgets/controls",
          "model_name": "HTMLModel",
          "model_module_version": "1.5.0",
          "state": {
            "_dom_classes": [],
            "_model_module": "@jupyter-widgets/controls",
            "_model_module_version": "1.5.0",
            "_model_name": "HTMLModel",
            "_view_count": null,
            "_view_module": "@jupyter-widgets/controls",
            "_view_module_version": "1.5.0",
            "_view_name": "HTMLView",
            "description": "",
            "description_tooltip": null,
            "layout": "IPY_MODEL_2d515b10dbc74814a49dddfb4c5be510",
            "placeholder": "​",
            "style": "IPY_MODEL_15f4845306054f4fa70263c2f35480be",
            "value": "<b>You:</b> i want to buy someth<br>"
          }
        },
        "2d515b10dbc74814a49dddfb4c5be510": {
          "model_module": "@jupyter-widgets/base",
          "model_name": "LayoutModel",
          "model_module_version": "1.2.0",
          "state": {
            "_model_module": "@jupyter-widgets/base",
            "_model_module_version": "1.2.0",
            "_model_name": "LayoutModel",
            "_view_count": null,
            "_view_module": "@jupyter-widgets/base",
            "_view_module_version": "1.2.0",
            "_view_name": "LayoutView",
            "align_content": null,
            "align_items": null,
            "align_self": null,
            "border": null,
            "bottom": null,
            "display": null,
            "flex": null,
            "flex_flow": null,
            "grid_area": null,
            "grid_auto_columns": null,
            "grid_auto_flow": null,
            "grid_auto_rows": null,
            "grid_column": null,
            "grid_gap": null,
            "grid_row": null,
            "grid_template_areas": null,
            "grid_template_columns": null,
            "grid_template_rows": null,
            "height": null,
            "justify_content": null,
            "justify_items": null,
            "left": null,
            "margin": null,
            "max_height": null,
            "max_width": null,
            "min_height": null,
            "min_width": null,
            "object_fit": null,
            "object_position": null,
            "order": null,
            "overflow": null,
            "overflow_x": null,
            "overflow_y": null,
            "padding": null,
            "right": null,
            "top": null,
            "visibility": null,
            "width": null
          }
        },
        "15f4845306054f4fa70263c2f35480be": {
          "model_module": "@jupyter-widgets/controls",
          "model_name": "DescriptionStyleModel",
          "model_module_version": "1.5.0",
          "state": {
            "_model_module": "@jupyter-widgets/controls",
            "_model_module_version": "1.5.0",
            "_model_name": "DescriptionStyleModel",
            "_view_count": null,
            "_view_module": "@jupyter-widgets/base",
            "_view_module_version": "1.2.0",
            "_view_name": "StyleView",
            "description_width": ""
          }
        },
        "bfe6511eedec400f834af57627da3440": {
          "model_module": "@jupyter-widgets/controls",
          "model_name": "HTMLModel",
          "model_module_version": "1.5.0",
          "state": {
            "_dom_classes": [],
            "_model_module": "@jupyter-widgets/controls",
            "_model_module_version": "1.5.0",
            "_model_name": "HTMLModel",
            "_view_count": null,
            "_view_module": "@jupyter-widgets/controls",
            "_view_module_version": "1.5.0",
            "_view_name": "HTMLView",
            "description": "",
            "description_tooltip": null,
            "layout": "IPY_MODEL_828634b5f8804a59b8de6af4fc91dd22",
            "placeholder": "​",
            "style": "IPY_MODEL_92bb7e137da649b5803a71642c375dc4",
            "value": "<b>Bot:</b> You can easily add or change your account details by following the steps below: Step 1: Click on 'Account', Step 2: Click on 'Manage my account' from the icon, Step 3: You change or edit your name, address, email address, mobile number, etc., Step 4: Fill in the required details, and click on Save. Note: You can also change your delivery address from the Checkout page before proceeding to pay.<br>"
          }
        },
        "828634b5f8804a59b8de6af4fc91dd22": {
          "model_module": "@jupyter-widgets/base",
          "model_name": "LayoutModel",
          "model_module_version": "1.2.0",
          "state": {
            "_model_module": "@jupyter-widgets/base",
            "_model_module_version": "1.2.0",
            "_model_name": "LayoutModel",
            "_view_count": null,
            "_view_module": "@jupyter-widgets/base",
            "_view_module_version": "1.2.0",
            "_view_name": "LayoutView",
            "align_content": null,
            "align_items": null,
            "align_self": null,
            "border": null,
            "bottom": null,
            "display": null,
            "flex": null,
            "flex_flow": null,
            "grid_area": null,
            "grid_auto_columns": null,
            "grid_auto_flow": null,
            "grid_auto_rows": null,
            "grid_column": null,
            "grid_gap": null,
            "grid_row": null,
            "grid_template_areas": null,
            "grid_template_columns": null,
            "grid_template_rows": null,
            "height": null,
            "justify_content": null,
            "justify_items": null,
            "left": null,
            "margin": null,
            "max_height": null,
            "max_width": null,
            "min_height": null,
            "min_width": null,
            "object_fit": null,
            "object_position": null,
            "order": null,
            "overflow": null,
            "overflow_x": null,
            "overflow_y": null,
            "padding": null,
            "right": null,
            "top": null,
            "visibility": null,
            "width": null
          }
        },
        "92bb7e137da649b5803a71642c375dc4": {
          "model_module": "@jupyter-widgets/controls",
          "model_name": "DescriptionStyleModel",
          "model_module_version": "1.5.0",
          "state": {
            "_model_module": "@jupyter-widgets/controls",
            "_model_module_version": "1.5.0",
            "_model_name": "DescriptionStyleModel",
            "_view_count": null,
            "_view_module": "@jupyter-widgets/base",
            "_view_module_version": "1.2.0",
            "_view_name": "StyleView",
            "description_width": ""
          }
        },
        "cd7e1e6991de46adbf27b2732772dc90": {
          "model_module": "@jupyter-widgets/controls",
          "model_name": "HTMLModel",
          "model_module_version": "1.5.0",
          "state": {
            "_dom_classes": [],
            "_model_module": "@jupyter-widgets/controls",
            "_model_module_version": "1.5.0",
            "_model_name": "HTMLModel",
            "_view_count": null,
            "_view_module": "@jupyter-widgets/controls",
            "_view_module_version": "1.5.0",
            "_view_name": "HTMLView",
            "description": "",
            "description_tooltip": null,
            "layout": "IPY_MODEL_521ac5c7b4d84c9db45fe32406dc7e3c",
            "placeholder": "​",
            "style": "IPY_MODEL_5e7a8d3dad81438a8b5de902884483ce",
            "value": "<b>You:</b> i need same support<br>"
          }
        },
        "521ac5c7b4d84c9db45fe32406dc7e3c": {
          "model_module": "@jupyter-widgets/base",
          "model_name": "LayoutModel",
          "model_module_version": "1.2.0",
          "state": {
            "_model_module": "@jupyter-widgets/base",
            "_model_module_version": "1.2.0",
            "_model_name": "LayoutModel",
            "_view_count": null,
            "_view_module": "@jupyter-widgets/base",
            "_view_module_version": "1.2.0",
            "_view_name": "LayoutView",
            "align_content": null,
            "align_items": null,
            "align_self": null,
            "border": null,
            "bottom": null,
            "display": null,
            "flex": null,
            "flex_flow": null,
            "grid_area": null,
            "grid_auto_columns": null,
            "grid_auto_flow": null,
            "grid_auto_rows": null,
            "grid_column": null,
            "grid_gap": null,
            "grid_row": null,
            "grid_template_areas": null,
            "grid_template_columns": null,
            "grid_template_rows": null,
            "height": null,
            "justify_content": null,
            "justify_items": null,
            "left": null,
            "margin": null,
            "max_height": null,
            "max_width": null,
            "min_height": null,
            "min_width": null,
            "object_fit": null,
            "object_position": null,
            "order": null,
            "overflow": null,
            "overflow_x": null,
            "overflow_y": null,
            "padding": null,
            "right": null,
            "top": null,
            "visibility": null,
            "width": null
          }
        },
        "5e7a8d3dad81438a8b5de902884483ce": {
          "model_module": "@jupyter-widgets/controls",
          "model_name": "DescriptionStyleModel",
          "model_module_version": "1.5.0",
          "state": {
            "_model_module": "@jupyter-widgets/controls",
            "_model_module_version": "1.5.0",
            "_model_name": "DescriptionStyleModel",
            "_view_count": null,
            "_view_module": "@jupyter-widgets/base",
            "_view_module_version": "1.2.0",
            "_view_name": "StyleView",
            "description_width": ""
          }
        },
        "af0beb9d70b84ffe98b4966333297c94": {
          "model_module": "@jupyter-widgets/controls",
          "model_name": "HTMLModel",
          "model_module_version": "1.5.0",
          "state": {
            "_dom_classes": [],
            "_model_module": "@jupyter-widgets/controls",
            "_model_module_version": "1.5.0",
            "_model_name": "HTMLModel",
            "_view_count": null,
            "_view_module": "@jupyter-widgets/controls",
            "_view_module_version": "1.5.0",
            "_view_name": "HTMLView",
            "description": "",
            "description_tooltip": null,
            "layout": "IPY_MODEL_7d62a8086fc44f7793e4a07efcc95f8f",
            "placeholder": "​",
            "style": "IPY_MODEL_d6817d5c96be4599822794d25b6c7d40",
            "value": "<b>Bot:</b> Contact us for further information here: Phone: +212-111-1327. Timings are from 09:00 AM to 05:00 PM from Monday to Saturday.<br>"
          }
        },
        "7d62a8086fc44f7793e4a07efcc95f8f": {
          "model_module": "@jupyter-widgets/base",
          "model_name": "LayoutModel",
          "model_module_version": "1.2.0",
          "state": {
            "_model_module": "@jupyter-widgets/base",
            "_model_module_version": "1.2.0",
            "_model_name": "LayoutModel",
            "_view_count": null,
            "_view_module": "@jupyter-widgets/base",
            "_view_module_version": "1.2.0",
            "_view_name": "LayoutView",
            "align_content": null,
            "align_items": null,
            "align_self": null,
            "border": null,
            "bottom": null,
            "display": null,
            "flex": null,
            "flex_flow": null,
            "grid_area": null,
            "grid_auto_columns": null,
            "grid_auto_flow": null,
            "grid_auto_rows": null,
            "grid_column": null,
            "grid_gap": null,
            "grid_row": null,
            "grid_template_areas": null,
            "grid_template_columns": null,
            "grid_template_rows": null,
            "height": null,
            "justify_content": null,
            "justify_items": null,
            "left": null,
            "margin": null,
            "max_height": null,
            "max_width": null,
            "min_height": null,
            "min_width": null,
            "object_fit": null,
            "object_position": null,
            "order": null,
            "overflow": null,
            "overflow_x": null,
            "overflow_y": null,
            "padding": null,
            "right": null,
            "top": null,
            "visibility": null,
            "width": null
          }
        },
        "d6817d5c96be4599822794d25b6c7d40": {
          "model_module": "@jupyter-widgets/controls",
          "model_name": "DescriptionStyleModel",
          "model_module_version": "1.5.0",
          "state": {
            "_model_module": "@jupyter-widgets/controls",
            "_model_module_version": "1.5.0",
            "_model_name": "DescriptionStyleModel",
            "_view_count": null,
            "_view_module": "@jupyter-widgets/base",
            "_view_module_version": "1.2.0",
            "_view_name": "StyleView",
            "description_width": ""
          }
        },
        "c8ce22e5c19547d0a737d58330f55f23": {
          "model_module": "@jupyter-widgets/controls",
          "model_name": "HTMLModel",
          "model_module_version": "1.5.0",
          "state": {
            "_dom_classes": [],
            "_model_module": "@jupyter-widgets/controls",
            "_model_module_version": "1.5.0",
            "_model_name": "HTMLModel",
            "_view_count": null,
            "_view_module": "@jupyter-widgets/controls",
            "_view_module_version": "1.5.0",
            "_view_name": "HTMLView",
            "description": "",
            "description_tooltip": null,
            "layout": "IPY_MODEL_f5f661be9be74c8488b198059d03c43e",
            "placeholder": "​",
            "style": "IPY_MODEL_1382da314c484e0186acb1aeccbeb666",
            "value": "<b>You:</b> can i cancel my order after payment<br>"
          }
        },
        "f5f661be9be74c8488b198059d03c43e": {
          "model_module": "@jupyter-widgets/base",
          "model_name": "LayoutModel",
          "model_module_version": "1.2.0",
          "state": {
            "_model_module": "@jupyter-widgets/base",
            "_model_module_version": "1.2.0",
            "_model_name": "LayoutModel",
            "_view_count": null,
            "_view_module": "@jupyter-widgets/base",
            "_view_module_version": "1.2.0",
            "_view_name": "LayoutView",
            "align_content": null,
            "align_items": null,
            "align_self": null,
            "border": null,
            "bottom": null,
            "display": null,
            "flex": null,
            "flex_flow": null,
            "grid_area": null,
            "grid_auto_columns": null,
            "grid_auto_flow": null,
            "grid_auto_rows": null,
            "grid_column": null,
            "grid_gap": null,
            "grid_row": null,
            "grid_template_areas": null,
            "grid_template_columns": null,
            "grid_template_rows": null,
            "height": null,
            "justify_content": null,
            "justify_items": null,
            "left": null,
            "margin": null,
            "max_height": null,
            "max_width": null,
            "min_height": null,
            "min_width": null,
            "object_fit": null,
            "object_position": null,
            "order": null,
            "overflow": null,
            "overflow_x": null,
            "overflow_y": null,
            "padding": null,
            "right": null,
            "top": null,
            "visibility": null,
            "width": null
          }
        },
        "1382da314c484e0186acb1aeccbeb666": {
          "model_module": "@jupyter-widgets/controls",
          "model_name": "DescriptionStyleModel",
          "model_module_version": "1.5.0",
          "state": {
            "_model_module": "@jupyter-widgets/controls",
            "_model_module_version": "1.5.0",
            "_model_name": "DescriptionStyleModel",
            "_view_count": null,
            "_view_module": "@jupyter-widgets/base",
            "_view_module_version": "1.2.0",
            "_view_name": "StyleView",
            "description_width": ""
          }
        },
        "00f7fd00966f4b8b8c959ca3be1ffebb": {
          "model_module": "@jupyter-widgets/controls",
          "model_name": "HTMLModel",
          "model_module_version": "1.5.0",
          "state": {
            "_dom_classes": [],
            "_model_module": "@jupyter-widgets/controls",
            "_model_module_version": "1.5.0",
            "_model_name": "HTMLModel",
            "_view_count": null,
            "_view_module": "@jupyter-widgets/controls",
            "_view_module_version": "1.5.0",
            "_view_name": "HTMLView",
            "description": "",
            "description_tooltip": null,
            "layout": "IPY_MODEL_f67e19bccca04ce3820c26b6bb88a132",
            "placeholder": "​",
            "style": "IPY_MODEL_837b6e40b4e24236b86213c01e5a0a9e",
            "value": "<b>Bot:</b> Orders can usually be canceled within a specified time frame. Check our order cancellation policy for details and any associated fees. To proceed with canceling an order, visit the 'Cancel Order' section on our website or contact our customer support.<br>"
          }
        },
        "f67e19bccca04ce3820c26b6bb88a132": {
          "model_module": "@jupyter-widgets/base",
          "model_name": "LayoutModel",
          "model_module_version": "1.2.0",
          "state": {
            "_model_module": "@jupyter-widgets/base",
            "_model_module_version": "1.2.0",
            "_model_name": "LayoutModel",
            "_view_count": null,
            "_view_module": "@jupyter-widgets/base",
            "_view_module_version": "1.2.0",
            "_view_name": "LayoutView",
            "align_content": null,
            "align_items": null,
            "align_self": null,
            "border": null,
            "bottom": null,
            "display": null,
            "flex": null,
            "flex_flow": null,
            "grid_area": null,
            "grid_auto_columns": null,
            "grid_auto_flow": null,
            "grid_auto_rows": null,
            "grid_column": null,
            "grid_gap": null,
            "grid_row": null,
            "grid_template_areas": null,
            "grid_template_columns": null,
            "grid_template_rows": null,
            "height": null,
            "justify_content": null,
            "justify_items": null,
            "left": null,
            "margin": null,
            "max_height": null,
            "max_width": null,
            "min_height": null,
            "min_width": null,
            "object_fit": null,
            "object_position": null,
            "order": null,
            "overflow": null,
            "overflow_x": null,
            "overflow_y": null,
            "padding": null,
            "right": null,
            "top": null,
            "visibility": null,
            "width": null
          }
        },
        "837b6e40b4e24236b86213c01e5a0a9e": {
          "model_module": "@jupyter-widgets/controls",
          "model_name": "DescriptionStyleModel",
          "model_module_version": "1.5.0",
          "state": {
            "_model_module": "@jupyter-widgets/controls",
            "_model_module_version": "1.5.0",
            "_model_name": "DescriptionStyleModel",
            "_view_count": null,
            "_view_module": "@jupyter-widgets/base",
            "_view_module_version": "1.2.0",
            "_view_name": "StyleView",
            "description_width": ""
          }
        },
        "418aa65fcfb34a61843a190b5a32904e": {
          "model_module": "@jupyter-widgets/controls",
          "model_name": "HTMLModel",
          "model_module_version": "1.5.0",
          "state": {
            "_dom_classes": [],
            "_model_module": "@jupyter-widgets/controls",
            "_model_module_version": "1.5.0",
            "_model_name": "HTMLModel",
            "_view_count": null,
            "_view_module": "@jupyter-widgets/controls",
            "_view_module_version": "1.5.0",
            "_view_name": "HTMLView",
            "description": "",
            "description_tooltip": null,
            "layout": "IPY_MODEL_00253379cc194162a56049e71aae3bac",
            "placeholder": "​",
            "style": "IPY_MODEL_60d7787cfc184a619757160e0ac95471",
            "value": "<b>You:</b> tell me about you live support<br>"
          }
        },
        "00253379cc194162a56049e71aae3bac": {
          "model_module": "@jupyter-widgets/base",
          "model_name": "LayoutModel",
          "model_module_version": "1.2.0",
          "state": {
            "_model_module": "@jupyter-widgets/base",
            "_model_module_version": "1.2.0",
            "_model_name": "LayoutModel",
            "_view_count": null,
            "_view_module": "@jupyter-widgets/base",
            "_view_module_version": "1.2.0",
            "_view_name": "LayoutView",
            "align_content": null,
            "align_items": null,
            "align_self": null,
            "border": null,
            "bottom": null,
            "display": null,
            "flex": null,
            "flex_flow": null,
            "grid_area": null,
            "grid_auto_columns": null,
            "grid_auto_flow": null,
            "grid_auto_rows": null,
            "grid_column": null,
            "grid_gap": null,
            "grid_row": null,
            "grid_template_areas": null,
            "grid_template_columns": null,
            "grid_template_rows": null,
            "height": null,
            "justify_content": null,
            "justify_items": null,
            "left": null,
            "margin": null,
            "max_height": null,
            "max_width": null,
            "min_height": null,
            "min_width": null,
            "object_fit": null,
            "object_position": null,
            "order": null,
            "overflow": null,
            "overflow_x": null,
            "overflow_y": null,
            "padding": null,
            "right": null,
            "top": null,
            "visibility": null,
            "width": null
          }
        },
        "60d7787cfc184a619757160e0ac95471": {
          "model_module": "@jupyter-widgets/controls",
          "model_name": "DescriptionStyleModel",
          "model_module_version": "1.5.0",
          "state": {
            "_model_module": "@jupyter-widgets/controls",
            "_model_module_version": "1.5.0",
            "_model_name": "DescriptionStyleModel",
            "_view_count": null,
            "_view_module": "@jupyter-widgets/base",
            "_view_module_version": "1.2.0",
            "_view_name": "StyleView",
            "description_width": ""
          }
        },
        "d5f0b160fdd846279a109af86a02424f": {
          "model_module": "@jupyter-widgets/controls",
          "model_name": "HTMLModel",
          "model_module_version": "1.5.0",
          "state": {
            "_dom_classes": [],
            "_model_module": "@jupyter-widgets/controls",
            "_model_module_version": "1.5.0",
            "_model_name": "HTMLModel",
            "_view_count": null,
            "_view_module": "@jupyter-widgets/controls",
            "_view_module_version": "1.5.0",
            "_view_name": "HTMLView",
            "description": "",
            "description_tooltip": null,
            "layout": "IPY_MODEL_b7bd0143dae844fb8d622b3c7a6e71a9",
            "placeholder": "​",
            "style": "IPY_MODEL_71cef9d1fa59431b836968901b4bbe98",
            "value": "<b>Bot:</b> Yes, we offer live chat support during specified hours. You can initiate a chat with our support team on our website. Our dedicated chat support team is here to assist you with any queries.<br>"
          }
        },
        "b7bd0143dae844fb8d622b3c7a6e71a9": {
          "model_module": "@jupyter-widgets/base",
          "model_name": "LayoutModel",
          "model_module_version": "1.2.0",
          "state": {
            "_model_module": "@jupyter-widgets/base",
            "_model_module_version": "1.2.0",
            "_model_name": "LayoutModel",
            "_view_count": null,
            "_view_module": "@jupyter-widgets/base",
            "_view_module_version": "1.2.0",
            "_view_name": "LayoutView",
            "align_content": null,
            "align_items": null,
            "align_self": null,
            "border": null,
            "bottom": null,
            "display": null,
            "flex": null,
            "flex_flow": null,
            "grid_area": null,
            "grid_auto_columns": null,
            "grid_auto_flow": null,
            "grid_auto_rows": null,
            "grid_column": null,
            "grid_gap": null,
            "grid_row": null,
            "grid_template_areas": null,
            "grid_template_columns": null,
            "grid_template_rows": null,
            "height": null,
            "justify_content": null,
            "justify_items": null,
            "left": null,
            "margin": null,
            "max_height": null,
            "max_width": null,
            "min_height": null,
            "min_width": null,
            "object_fit": null,
            "object_position": null,
            "order": null,
            "overflow": null,
            "overflow_x": null,
            "overflow_y": null,
            "padding": null,
            "right": null,
            "top": null,
            "visibility": null,
            "width": null
          }
        },
        "71cef9d1fa59431b836968901b4bbe98": {
          "model_module": "@jupyter-widgets/controls",
          "model_name": "DescriptionStyleModel",
          "model_module_version": "1.5.0",
          "state": {
            "_model_module": "@jupyter-widgets/controls",
            "_model_module_version": "1.5.0",
            "_model_name": "DescriptionStyleModel",
            "_view_count": null,
            "_view_module": "@jupyter-widgets/base",
            "_view_module_version": "1.2.0",
            "_view_name": "StyleView",
            "description_width": ""
          }
        },
        "245c7d6994ea4bd7b87cf39bc9e88a84": {
          "model_module": "@jupyter-widgets/controls",
          "model_name": "HTMLModel",
          "model_module_version": "1.5.0",
          "state": {
            "_dom_classes": [],
            "_model_module": "@jupyter-widgets/controls",
            "_model_module_version": "1.5.0",
            "_model_name": "HTMLModel",
            "_view_count": null,
            "_view_module": "@jupyter-widgets/controls",
            "_view_module_version": "1.5.0",
            "_view_name": "HTMLView",
            "description": "",
            "description_tooltip": null,
            "layout": "IPY_MODEL_526b24c26d4844de8d0a08639900d4d0",
            "placeholder": "​",
            "style": "IPY_MODEL_9008ecf608a9460494bbc73bc88bf0f7",
            "value": "<b>You:</b> tell me about mutlipl shipments?<br>"
          }
        },
        "526b24c26d4844de8d0a08639900d4d0": {
          "model_module": "@jupyter-widgets/base",
          "model_name": "LayoutModel",
          "model_module_version": "1.2.0",
          "state": {
            "_model_module": "@jupyter-widgets/base",
            "_model_module_version": "1.2.0",
            "_model_name": "LayoutModel",
            "_view_count": null,
            "_view_module": "@jupyter-widgets/base",
            "_view_module_version": "1.2.0",
            "_view_name": "LayoutView",
            "align_content": null,
            "align_items": null,
            "align_self": null,
            "border": null,
            "bottom": null,
            "display": null,
            "flex": null,
            "flex_flow": null,
            "grid_area": null,
            "grid_auto_columns": null,
            "grid_auto_flow": null,
            "grid_auto_rows": null,
            "grid_column": null,
            "grid_gap": null,
            "grid_row": null,
            "grid_template_areas": null,
            "grid_template_columns": null,
            "grid_template_rows": null,
            "height": null,
            "justify_content": null,
            "justify_items": null,
            "left": null,
            "margin": null,
            "max_height": null,
            "max_width": null,
            "min_height": null,
            "min_width": null,
            "object_fit": null,
            "object_position": null,
            "order": null,
            "overflow": null,
            "overflow_x": null,
            "overflow_y": null,
            "padding": null,
            "right": null,
            "top": null,
            "visibility": null,
            "width": null
          }
        },
        "9008ecf608a9460494bbc73bc88bf0f7": {
          "model_module": "@jupyter-widgets/controls",
          "model_name": "DescriptionStyleModel",
          "model_module_version": "1.5.0",
          "state": {
            "_model_module": "@jupyter-widgets/controls",
            "_model_module_version": "1.5.0",
            "_model_name": "DescriptionStyleModel",
            "_view_count": null,
            "_view_module": "@jupyter-widgets/base",
            "_view_module_version": "1.2.0",
            "_view_name": "StyleView",
            "description_width": ""
          }
        },
        "c0d45ef7fb8a4d29bb5b89df885e3714": {
          "model_module": "@jupyter-widgets/controls",
          "model_name": "HTMLModel",
          "model_module_version": "1.5.0",
          "state": {
            "_dom_classes": [],
            "_model_module": "@jupyter-widgets/controls",
            "_model_module_version": "1.5.0",
            "_model_name": "HTMLModel",
            "_view_count": null,
            "_view_module": "@jupyter-widgets/controls",
            "_view_module_version": "1.5.0",
            "_view_name": "HTMLView",
            "description": "",
            "description_tooltip": null,
            "layout": "IPY_MODEL_1ed3710a8408411eb56429fb0c9e0b29",
            "placeholder": "​",
            "style": "IPY_MODEL_01f4feb5f1e845858dbdb6a4f4b5d6f9",
            "value": "<b>Bot:</b> Yes, we currently have [X]% off on [specific category/product].<br>"
          }
        },
        "1ed3710a8408411eb56429fb0c9e0b29": {
          "model_module": "@jupyter-widgets/base",
          "model_name": "LayoutModel",
          "model_module_version": "1.2.0",
          "state": {
            "_model_module": "@jupyter-widgets/base",
            "_model_module_version": "1.2.0",
            "_model_name": "LayoutModel",
            "_view_count": null,
            "_view_module": "@jupyter-widgets/base",
            "_view_module_version": "1.2.0",
            "_view_name": "LayoutView",
            "align_content": null,
            "align_items": null,
            "align_self": null,
            "border": null,
            "bottom": null,
            "display": null,
            "flex": null,
            "flex_flow": null,
            "grid_area": null,
            "grid_auto_columns": null,
            "grid_auto_flow": null,
            "grid_auto_rows": null,
            "grid_column": null,
            "grid_gap": null,
            "grid_row": null,
            "grid_template_areas": null,
            "grid_template_columns": null,
            "grid_template_rows": null,
            "height": null,
            "justify_content": null,
            "justify_items": null,
            "left": null,
            "margin": null,
            "max_height": null,
            "max_width": null,
            "min_height": null,
            "min_width": null,
            "object_fit": null,
            "object_position": null,
            "order": null,
            "overflow": null,
            "overflow_x": null,
            "overflow_y": null,
            "padding": null,
            "right": null,
            "top": null,
            "visibility": null,
            "width": null
          }
        },
        "01f4feb5f1e845858dbdb6a4f4b5d6f9": {
          "model_module": "@jupyter-widgets/controls",
          "model_name": "DescriptionStyleModel",
          "model_module_version": "1.5.0",
          "state": {
            "_model_module": "@jupyter-widgets/controls",
            "_model_module_version": "1.5.0",
            "_model_name": "DescriptionStyleModel",
            "_view_count": null,
            "_view_module": "@jupyter-widgets/base",
            "_view_module_version": "1.2.0",
            "_view_name": "StyleView",
            "description_width": ""
          }
        },
        "62a80799625f4c1e891e319644cf37f1": {
          "model_module": "@jupyter-widgets/controls",
          "model_name": "HTMLModel",
          "model_module_version": "1.5.0",
          "state": {
            "_dom_classes": [],
            "_model_module": "@jupyter-widgets/controls",
            "_model_module_version": "1.5.0",
            "_model_name": "HTMLModel",
            "_view_count": null,
            "_view_module": "@jupyter-widgets/controls",
            "_view_module_version": "1.5.0",
            "_view_name": "HTMLView",
            "description": "",
            "description_tooltip": null,
            "layout": "IPY_MODEL_2dc2f02fd0c148d49cd40fb22d2290cf",
            "placeholder": "​",
            "style": "IPY_MODEL_ce9300a5fcd1486ca6f4efca46caab16",
            "value": "<b>You:</b> tell me about product care recommandations<br>"
          }
        },
        "2dc2f02fd0c148d49cd40fb22d2290cf": {
          "model_module": "@jupyter-widgets/base",
          "model_name": "LayoutModel",
          "model_module_version": "1.2.0",
          "state": {
            "_model_module": "@jupyter-widgets/base",
            "_model_module_version": "1.2.0",
            "_model_name": "LayoutModel",
            "_view_count": null,
            "_view_module": "@jupyter-widgets/base",
            "_view_module_version": "1.2.0",
            "_view_name": "LayoutView",
            "align_content": null,
            "align_items": null,
            "align_self": null,
            "border": null,
            "bottom": null,
            "display": null,
            "flex": null,
            "flex_flow": null,
            "grid_area": null,
            "grid_auto_columns": null,
            "grid_auto_flow": null,
            "grid_auto_rows": null,
            "grid_column": null,
            "grid_gap": null,
            "grid_row": null,
            "grid_template_areas": null,
            "grid_template_columns": null,
            "grid_template_rows": null,
            "height": null,
            "justify_content": null,
            "justify_items": null,
            "left": null,
            "margin": null,
            "max_height": null,
            "max_width": null,
            "min_height": null,
            "min_width": null,
            "object_fit": null,
            "object_position": null,
            "order": null,
            "overflow": null,
            "overflow_x": null,
            "overflow_y": null,
            "padding": null,
            "right": null,
            "top": null,
            "visibility": null,
            "width": null
          }
        },
        "ce9300a5fcd1486ca6f4efca46caab16": {
          "model_module": "@jupyter-widgets/controls",
          "model_name": "DescriptionStyleModel",
          "model_module_version": "1.5.0",
          "state": {
            "_model_module": "@jupyter-widgets/controls",
            "_model_module_version": "1.5.0",
            "_model_name": "DescriptionStyleModel",
            "_view_count": null,
            "_view_module": "@jupyter-widgets/base",
            "_view_module_version": "1.2.0",
            "_view_name": "StyleView",
            "description_width": ""
          }
        },
        "64976f4779974ebb97db1133994c4c23": {
          "model_module": "@jupyter-widgets/controls",
          "model_name": "HTMLModel",
          "model_module_version": "1.5.0",
          "state": {
            "_dom_classes": [],
            "_model_module": "@jupyter-widgets/controls",
            "_model_module_version": "1.5.0",
            "_model_name": "HTMLModel",
            "_view_count": null,
            "_view_module": "@jupyter-widgets/controls",
            "_view_module_version": "1.5.0",
            "_view_name": "HTMLView",
            "description": "",
            "description_tooltip": null,
            "layout": "IPY_MODEL_ede0613c5a1f4cecae44a27831d61796",
            "placeholder": "​",
            "style": "IPY_MODEL_f283c25ea76f4dff8681c08554572f70",
            "value": "<b>Bot:</b> Product care recommendations are usually provided on the product page. Additionally, care instructions may be included with the product. If in doubt, feel free to contact us for guidance on washing or cleaning specific items.<br>"
          }
        },
        "ede0613c5a1f4cecae44a27831d61796": {
          "model_module": "@jupyter-widgets/base",
          "model_name": "LayoutModel",
          "model_module_version": "1.2.0",
          "state": {
            "_model_module": "@jupyter-widgets/base",
            "_model_module_version": "1.2.0",
            "_model_name": "LayoutModel",
            "_view_count": null,
            "_view_module": "@jupyter-widgets/base",
            "_view_module_version": "1.2.0",
            "_view_name": "LayoutView",
            "align_content": null,
            "align_items": null,
            "align_self": null,
            "border": null,
            "bottom": null,
            "display": null,
            "flex": null,
            "flex_flow": null,
            "grid_area": null,
            "grid_auto_columns": null,
            "grid_auto_flow": null,
            "grid_auto_rows": null,
            "grid_column": null,
            "grid_gap": null,
            "grid_row": null,
            "grid_template_areas": null,
            "grid_template_columns": null,
            "grid_template_rows": null,
            "height": null,
            "justify_content": null,
            "justify_items": null,
            "left": null,
            "margin": null,
            "max_height": null,
            "max_width": null,
            "min_height": null,
            "min_width": null,
            "object_fit": null,
            "object_position": null,
            "order": null,
            "overflow": null,
            "overflow_x": null,
            "overflow_y": null,
            "padding": null,
            "right": null,
            "top": null,
            "visibility": null,
            "width": null
          }
        },
        "f283c25ea76f4dff8681c08554572f70": {
          "model_module": "@jupyter-widgets/controls",
          "model_name": "DescriptionStyleModel",
          "model_module_version": "1.5.0",
          "state": {
            "_model_module": "@jupyter-widgets/controls",
            "_model_module_version": "1.5.0",
            "_model_name": "DescriptionStyleModel",
            "_view_count": null,
            "_view_module": "@jupyter-widgets/base",
            "_view_module_version": "1.2.0",
            "_view_name": "StyleView",
            "description_width": ""
          }
        },
        "728e03b129ff4a52aa397ee6dea77af1": {
          "model_module": "@jupyter-widgets/controls",
          "model_name": "HTMLModel",
          "model_module_version": "1.5.0",
          "state": {
            "_dom_classes": [],
            "_model_module": "@jupyter-widgets/controls",
            "_model_module_version": "1.5.0",
            "_model_name": "HTMLModel",
            "_view_count": null,
            "_view_module": "@jupyter-widgets/controls",
            "_view_module_version": "1.5.0",
            "_view_name": "HTMLView",
            "description": "",
            "description_tooltip": null,
            "layout": "IPY_MODEL_88670c05453a4481bb412167ac5f8fbf",
            "placeholder": "​",
            "style": "IPY_MODEL_a0e5e4738e35416c9f76cd2b69a35dcc",
            "value": "<b>You:</b> do you offer internationnel shipping<br>"
          }
        },
        "88670c05453a4481bb412167ac5f8fbf": {
          "model_module": "@jupyter-widgets/base",
          "model_name": "LayoutModel",
          "model_module_version": "1.2.0",
          "state": {
            "_model_module": "@jupyter-widgets/base",
            "_model_module_version": "1.2.0",
            "_model_name": "LayoutModel",
            "_view_count": null,
            "_view_module": "@jupyter-widgets/base",
            "_view_module_version": "1.2.0",
            "_view_name": "LayoutView",
            "align_content": null,
            "align_items": null,
            "align_self": null,
            "border": null,
            "bottom": null,
            "display": null,
            "flex": null,
            "flex_flow": null,
            "grid_area": null,
            "grid_auto_columns": null,
            "grid_auto_flow": null,
            "grid_auto_rows": null,
            "grid_column": null,
            "grid_gap": null,
            "grid_row": null,
            "grid_template_areas": null,
            "grid_template_columns": null,
            "grid_template_rows": null,
            "height": null,
            "justify_content": null,
            "justify_items": null,
            "left": null,
            "margin": null,
            "max_height": null,
            "max_width": null,
            "min_height": null,
            "min_width": null,
            "object_fit": null,
            "object_position": null,
            "order": null,
            "overflow": null,
            "overflow_x": null,
            "overflow_y": null,
            "padding": null,
            "right": null,
            "top": null,
            "visibility": null,
            "width": null
          }
        },
        "a0e5e4738e35416c9f76cd2b69a35dcc": {
          "model_module": "@jupyter-widgets/controls",
          "model_name": "DescriptionStyleModel",
          "model_module_version": "1.5.0",
          "state": {
            "_model_module": "@jupyter-widgets/controls",
            "_model_module_version": "1.5.0",
            "_model_name": "DescriptionStyleModel",
            "_view_count": null,
            "_view_module": "@jupyter-widgets/base",
            "_view_module_version": "1.2.0",
            "_view_name": "StyleView",
            "description_width": ""
          }
        },
        "9b88d2cb30584a8cb93d232e50fd9088": {
          "model_module": "@jupyter-widgets/controls",
          "model_name": "HTMLModel",
          "model_module_version": "1.5.0",
          "state": {
            "_dom_classes": [],
            "_model_module": "@jupyter-widgets/controls",
            "_model_module_version": "1.5.0",
            "_model_name": "HTMLModel",
            "_view_count": null,
            "_view_module": "@jupyter-widgets/controls",
            "_view_module_version": "1.5.0",
            "_view_name": "HTMLView",
            "description": "",
            "description_tooltip": null,
            "layout": "IPY_MODEL_1e60b520a85943428945f94377fbeccf",
            "placeholder": "​",
            "style": "IPY_MODEL_814d330ad6c3484fb1ff4ad3569504be",
            "value": "<b>Bot:</b> Yes, we offer international shipping. Shipping rates and delivery times vary by destination. You can track your internationally shipped order using the provided tracking information.<br>"
          }
        },
        "1e60b520a85943428945f94377fbeccf": {
          "model_module": "@jupyter-widgets/base",
          "model_name": "LayoutModel",
          "model_module_version": "1.2.0",
          "state": {
            "_model_module": "@jupyter-widgets/base",
            "_model_module_version": "1.2.0",
            "_model_name": "LayoutModel",
            "_view_count": null,
            "_view_module": "@jupyter-widgets/base",
            "_view_module_version": "1.2.0",
            "_view_name": "LayoutView",
            "align_content": null,
            "align_items": null,
            "align_self": null,
            "border": null,
            "bottom": null,
            "display": null,
            "flex": null,
            "flex_flow": null,
            "grid_area": null,
            "grid_auto_columns": null,
            "grid_auto_flow": null,
            "grid_auto_rows": null,
            "grid_column": null,
            "grid_gap": null,
            "grid_row": null,
            "grid_template_areas": null,
            "grid_template_columns": null,
            "grid_template_rows": null,
            "height": null,
            "justify_content": null,
            "justify_items": null,
            "left": null,
            "margin": null,
            "max_height": null,
            "max_width": null,
            "min_height": null,
            "min_width": null,
            "object_fit": null,
            "object_position": null,
            "order": null,
            "overflow": null,
            "overflow_x": null,
            "overflow_y": null,
            "padding": null,
            "right": null,
            "top": null,
            "visibility": null,
            "width": null
          }
        },
        "814d330ad6c3484fb1ff4ad3569504be": {
          "model_module": "@jupyter-widgets/controls",
          "model_name": "DescriptionStyleModel",
          "model_module_version": "1.5.0",
          "state": {
            "_model_module": "@jupyter-widgets/controls",
            "_model_module_version": "1.5.0",
            "_model_name": "DescriptionStyleModel",
            "_view_count": null,
            "_view_module": "@jupyter-widgets/base",
            "_view_module_version": "1.2.0",
            "_view_name": "StyleView",
            "description_width": ""
          }
        },
        "ff114b321c5e4fd592f3dab1f7bc2730": {
          "model_module": "@jupyter-widgets/controls",
          "model_name": "HTMLModel",
          "model_module_version": "1.5.0",
          "state": {
            "_dom_classes": [],
            "_model_module": "@jupyter-widgets/controls",
            "_model_module_version": "1.5.0",
            "_model_name": "HTMLModel",
            "_view_count": null,
            "_view_module": "@jupyter-widgets/controls",
            "_view_module_version": "1.5.0",
            "_view_name": "HTMLView",
            "description": "",
            "description_tooltip": null,
            "layout": "IPY_MODEL_f5e26f91c249400b86211d65a8eaa51a",
            "placeholder": "​",
            "style": "IPY_MODEL_b557b815aae045aca1c3ece829cff8bf",
            "value": "<b>You:</b> what do you sell<br>"
          }
        },
        "f5e26f91c249400b86211d65a8eaa51a": {
          "model_module": "@jupyter-widgets/base",
          "model_name": "LayoutModel",
          "model_module_version": "1.2.0",
          "state": {
            "_model_module": "@jupyter-widgets/base",
            "_model_module_version": "1.2.0",
            "_model_name": "LayoutModel",
            "_view_count": null,
            "_view_module": "@jupyter-widgets/base",
            "_view_module_version": "1.2.0",
            "_view_name": "LayoutView",
            "align_content": null,
            "align_items": null,
            "align_self": null,
            "border": null,
            "bottom": null,
            "display": null,
            "flex": null,
            "flex_flow": null,
            "grid_area": null,
            "grid_auto_columns": null,
            "grid_auto_flow": null,
            "grid_auto_rows": null,
            "grid_column": null,
            "grid_gap": null,
            "grid_row": null,
            "grid_template_areas": null,
            "grid_template_columns": null,
            "grid_template_rows": null,
            "height": null,
            "justify_content": null,
            "justify_items": null,
            "left": null,
            "margin": null,
            "max_height": null,
            "max_width": null,
            "min_height": null,
            "min_width": null,
            "object_fit": null,
            "object_position": null,
            "order": null,
            "overflow": null,
            "overflow_x": null,
            "overflow_y": null,
            "padding": null,
            "right": null,
            "top": null,
            "visibility": null,
            "width": null
          }
        },
        "b557b815aae045aca1c3ece829cff8bf": {
          "model_module": "@jupyter-widgets/controls",
          "model_name": "DescriptionStyleModel",
          "model_module_version": "1.5.0",
          "state": {
            "_model_module": "@jupyter-widgets/controls",
            "_model_module_version": "1.5.0",
            "_model_name": "DescriptionStyleModel",
            "_view_count": null,
            "_view_module": "@jupyter-widgets/base",
            "_view_module_version": "1.2.0",
            "_view_name": "StyleView",
            "description_width": ""
          }
        },
        "273206b715664d20a4e16d8138f15d51": {
          "model_module": "@jupyter-widgets/controls",
          "model_name": "HTMLModel",
          "model_module_version": "1.5.0",
          "state": {
            "_dom_classes": [],
            "_model_module": "@jupyter-widgets/controls",
            "_model_module_version": "1.5.0",
            "_model_name": "HTMLModel",
            "_view_count": null,
            "_view_module": "@jupyter-widgets/controls",
            "_view_module_version": "1.5.0",
            "_view_name": "HTMLView",
            "description": "",
            "description_tooltip": null,
            "layout": "IPY_MODEL_5994d382ef3b43f4b578767d512d6646",
            "placeholder": "​",
            "style": "IPY_MODEL_fff684b2e13e4cc1838cd1dde0cc48b3",
            "value": "<b>Bot:</b> Search your preference in our flagship store's search bar to see all available products. <br>"
          }
        },
        "5994d382ef3b43f4b578767d512d6646": {
          "model_module": "@jupyter-widgets/base",
          "model_name": "LayoutModel",
          "model_module_version": "1.2.0",
          "state": {
            "_model_module": "@jupyter-widgets/base",
            "_model_module_version": "1.2.0",
            "_model_name": "LayoutModel",
            "_view_count": null,
            "_view_module": "@jupyter-widgets/base",
            "_view_module_version": "1.2.0",
            "_view_name": "LayoutView",
            "align_content": null,
            "align_items": null,
            "align_self": null,
            "border": null,
            "bottom": null,
            "display": null,
            "flex": null,
            "flex_flow": null,
            "grid_area": null,
            "grid_auto_columns": null,
            "grid_auto_flow": null,
            "grid_auto_rows": null,
            "grid_column": null,
            "grid_gap": null,
            "grid_row": null,
            "grid_template_areas": null,
            "grid_template_columns": null,
            "grid_template_rows": null,
            "height": null,
            "justify_content": null,
            "justify_items": null,
            "left": null,
            "margin": null,
            "max_height": null,
            "max_width": null,
            "min_height": null,
            "min_width": null,
            "object_fit": null,
            "object_position": null,
            "order": null,
            "overflow": null,
            "overflow_x": null,
            "overflow_y": null,
            "padding": null,
            "right": null,
            "top": null,
            "visibility": null,
            "width": null
          }
        },
        "fff684b2e13e4cc1838cd1dde0cc48b3": {
          "model_module": "@jupyter-widgets/controls",
          "model_name": "DescriptionStyleModel",
          "model_module_version": "1.5.0",
          "state": {
            "_model_module": "@jupyter-widgets/controls",
            "_model_module_version": "1.5.0",
            "_model_name": "DescriptionStyleModel",
            "_view_count": null,
            "_view_module": "@jupyter-widgets/base",
            "_view_module_version": "1.2.0",
            "_view_name": "StyleView",
            "description_width": ""
          }
        },
        "24b9861fae1b47a3ad1d600231604d3c": {
          "model_module": "@jupyter-widgets/controls",
          "model_name": "HTMLModel",
          "model_module_version": "1.5.0",
          "state": {
            "_dom_classes": [],
            "_model_module": "@jupyter-widgets/controls",
            "_model_module_version": "1.5.0",
            "_model_name": "HTMLModel",
            "_view_count": null,
            "_view_module": "@jupyter-widgets/controls",
            "_view_module_version": "1.5.0",
            "_view_name": "HTMLView",
            "description": "",
            "description_tooltip": null,
            "layout": "IPY_MODEL_04affb015a104f27a61ee264a7c58b09",
            "placeholder": "​",
            "style": "IPY_MODEL_b8f80a0fe74e484d93adb0d4c1a72fd3",
            "value": "<b>You:</b> how can i track my order<br>"
          }
        },
        "04affb015a104f27a61ee264a7c58b09": {
          "model_module": "@jupyter-widgets/base",
          "model_name": "LayoutModel",
          "model_module_version": "1.2.0",
          "state": {
            "_model_module": "@jupyter-widgets/base",
            "_model_module_version": "1.2.0",
            "_model_name": "LayoutModel",
            "_view_count": null,
            "_view_module": "@jupyter-widgets/base",
            "_view_module_version": "1.2.0",
            "_view_name": "LayoutView",
            "align_content": null,
            "align_items": null,
            "align_self": null,
            "border": null,
            "bottom": null,
            "display": null,
            "flex": null,
            "flex_flow": null,
            "grid_area": null,
            "grid_auto_columns": null,
            "grid_auto_flow": null,
            "grid_auto_rows": null,
            "grid_column": null,
            "grid_gap": null,
            "grid_row": null,
            "grid_template_areas": null,
            "grid_template_columns": null,
            "grid_template_rows": null,
            "height": null,
            "justify_content": null,
            "justify_items": null,
            "left": null,
            "margin": null,
            "max_height": null,
            "max_width": null,
            "min_height": null,
            "min_width": null,
            "object_fit": null,
            "object_position": null,
            "order": null,
            "overflow": null,
            "overflow_x": null,
            "overflow_y": null,
            "padding": null,
            "right": null,
            "top": null,
            "visibility": null,
            "width": null
          }
        },
        "b8f80a0fe74e484d93adb0d4c1a72fd3": {
          "model_module": "@jupyter-widgets/controls",
          "model_name": "DescriptionStyleModel",
          "model_module_version": "1.5.0",
          "state": {
            "_model_module": "@jupyter-widgets/controls",
            "_model_module_version": "1.5.0",
            "_model_name": "DescriptionStyleModel",
            "_view_count": null,
            "_view_module": "@jupyter-widgets/base",
            "_view_module_version": "1.2.0",
            "_view_name": "StyleView",
            "description_width": ""
          }
        },
        "4b599f6e90844669925885b5ab9fb18f": {
          "model_module": "@jupyter-widgets/controls",
          "model_name": "HTMLModel",
          "model_module_version": "1.5.0",
          "state": {
            "_dom_classes": [],
            "_model_module": "@jupyter-widgets/controls",
            "_model_module_version": "1.5.0",
            "_model_name": "HTMLModel",
            "_view_count": null,
            "_view_module": "@jupyter-widgets/controls",
            "_view_module_version": "1.5.0",
            "_view_name": "HTMLView",
            "description": "",
            "description_tooltip": null,
            "layout": "IPY_MODEL_65e2613426724e718a71d15d7d2585ad",
            "placeholder": "​",
            "style": "IPY_MODEL_da62c18fbfb24f62ae90bf3564b8c515",
            "value": "<b>Bot:</b> Visit the order page, click on the specific order, select 'track my order', and check the status<br>"
          }
        },
        "65e2613426724e718a71d15d7d2585ad": {
          "model_module": "@jupyter-widgets/base",
          "model_name": "LayoutModel",
          "model_module_version": "1.2.0",
          "state": {
            "_model_module": "@jupyter-widgets/base",
            "_model_module_version": "1.2.0",
            "_model_name": "LayoutModel",
            "_view_count": null,
            "_view_module": "@jupyter-widgets/base",
            "_view_module_version": "1.2.0",
            "_view_name": "LayoutView",
            "align_content": null,
            "align_items": null,
            "align_self": null,
            "border": null,
            "bottom": null,
            "display": null,
            "flex": null,
            "flex_flow": null,
            "grid_area": null,
            "grid_auto_columns": null,
            "grid_auto_flow": null,
            "grid_auto_rows": null,
            "grid_column": null,
            "grid_gap": null,
            "grid_row": null,
            "grid_template_areas": null,
            "grid_template_columns": null,
            "grid_template_rows": null,
            "height": null,
            "justify_content": null,
            "justify_items": null,
            "left": null,
            "margin": null,
            "max_height": null,
            "max_width": null,
            "min_height": null,
            "min_width": null,
            "object_fit": null,
            "object_position": null,
            "order": null,
            "overflow": null,
            "overflow_x": null,
            "overflow_y": null,
            "padding": null,
            "right": null,
            "top": null,
            "visibility": null,
            "width": null
          }
        },
        "da62c18fbfb24f62ae90bf3564b8c515": {
          "model_module": "@jupyter-widgets/controls",
          "model_name": "DescriptionStyleModel",
          "model_module_version": "1.5.0",
          "state": {
            "_model_module": "@jupyter-widgets/controls",
            "_model_module_version": "1.5.0",
            "_model_name": "DescriptionStyleModel",
            "_view_count": null,
            "_view_module": "@jupyter-widgets/base",
            "_view_module_version": "1.2.0",
            "_view_name": "StyleView",
            "description_width": ""
          }
        }
      }
    }
  },
  "nbformat": 4,
  "nbformat_minor": 0
}